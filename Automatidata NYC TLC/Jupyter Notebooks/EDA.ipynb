{
 "cells": [
  {
   "cell_type": "code",
   "execution_count": 1,
   "id": "5144ec95-ed97-48bb-a7b4-026ff9148c36",
   "metadata": {},
   "outputs": [],
   "source": [
    "import numpy as np\n",
    "import pandas as pd\n",
    "import matplotlib.pyplot as plt\n",
    "import seaborn as sns\n",
    "\n",
    "from readable_number import ReadableNumber"
   ]
  },
  {
   "cell_type": "code",
   "execution_count": 2,
   "id": "d16cf39c-daf0-45a5-a6d9-4d6f06e8c6ae",
   "metadata": {},
   "outputs": [],
   "source": [
    "nyc_taxi = pd.read_csv('./Dataset/2017 Yellow Taxi Trip Data.csv')"
   ]
  },
  {
   "cell_type": "code",
   "execution_count": 3,
   "id": "25a7c34b-04fa-45be-8c75-1c4a64aced77",
   "metadata": {},
   "outputs": [
    {
     "data": {
      "text/html": [
       "<div>\n",
       "<style scoped>\n",
       "    .dataframe tbody tr th:only-of-type {\n",
       "        vertical-align: middle;\n",
       "    }\n",
       "\n",
       "    .dataframe tbody tr th {\n",
       "        vertical-align: top;\n",
       "    }\n",
       "\n",
       "    .dataframe thead th {\n",
       "        text-align: right;\n",
       "    }\n",
       "</style>\n",
       "<table border=\"1\" class=\"dataframe\">\n",
       "  <thead>\n",
       "    <tr style=\"text-align: right;\">\n",
       "      <th></th>\n",
       "      <th>Unnamed: 0</th>\n",
       "      <th>VendorID</th>\n",
       "      <th>tpep_pickup_datetime</th>\n",
       "      <th>tpep_dropoff_datetime</th>\n",
       "      <th>passenger_count</th>\n",
       "      <th>trip_distance</th>\n",
       "      <th>RatecodeID</th>\n",
       "      <th>store_and_fwd_flag</th>\n",
       "      <th>PULocationID</th>\n",
       "      <th>DOLocationID</th>\n",
       "      <th>payment_type</th>\n",
       "      <th>fare_amount</th>\n",
       "      <th>extra</th>\n",
       "      <th>mta_tax</th>\n",
       "      <th>tip_amount</th>\n",
       "      <th>tolls_amount</th>\n",
       "      <th>improvement_surcharge</th>\n",
       "      <th>total_amount</th>\n",
       "    </tr>\n",
       "  </thead>\n",
       "  <tbody>\n",
       "    <tr>\n",
       "      <th>0</th>\n",
       "      <td>24870114</td>\n",
       "      <td>2</td>\n",
       "      <td>03/25/2017 8:55:43 AM</td>\n",
       "      <td>03/25/2017 9:09:47 AM</td>\n",
       "      <td>6</td>\n",
       "      <td>3.34</td>\n",
       "      <td>1</td>\n",
       "      <td>N</td>\n",
       "      <td>100</td>\n",
       "      <td>231</td>\n",
       "      <td>1</td>\n",
       "      <td>13.0</td>\n",
       "      <td>0.0</td>\n",
       "      <td>0.5</td>\n",
       "      <td>2.76</td>\n",
       "      <td>0.0</td>\n",
       "      <td>0.3</td>\n",
       "      <td>16.56</td>\n",
       "    </tr>\n",
       "    <tr>\n",
       "      <th>1</th>\n",
       "      <td>35634249</td>\n",
       "      <td>1</td>\n",
       "      <td>04/11/2017 2:53:28 PM</td>\n",
       "      <td>04/11/2017 3:19:58 PM</td>\n",
       "      <td>1</td>\n",
       "      <td>1.80</td>\n",
       "      <td>1</td>\n",
       "      <td>N</td>\n",
       "      <td>186</td>\n",
       "      <td>43</td>\n",
       "      <td>1</td>\n",
       "      <td>16.0</td>\n",
       "      <td>0.0</td>\n",
       "      <td>0.5</td>\n",
       "      <td>4.00</td>\n",
       "      <td>0.0</td>\n",
       "      <td>0.3</td>\n",
       "      <td>20.80</td>\n",
       "    </tr>\n",
       "    <tr>\n",
       "      <th>2</th>\n",
       "      <td>106203690</td>\n",
       "      <td>1</td>\n",
       "      <td>12/15/2017 7:26:56 AM</td>\n",
       "      <td>12/15/2017 7:34:08 AM</td>\n",
       "      <td>1</td>\n",
       "      <td>1.00</td>\n",
       "      <td>1</td>\n",
       "      <td>N</td>\n",
       "      <td>262</td>\n",
       "      <td>236</td>\n",
       "      <td>1</td>\n",
       "      <td>6.5</td>\n",
       "      <td>0.0</td>\n",
       "      <td>0.5</td>\n",
       "      <td>1.45</td>\n",
       "      <td>0.0</td>\n",
       "      <td>0.3</td>\n",
       "      <td>8.75</td>\n",
       "    </tr>\n",
       "    <tr>\n",
       "      <th>3</th>\n",
       "      <td>38942136</td>\n",
       "      <td>2</td>\n",
       "      <td>05/07/2017 1:17:59 PM</td>\n",
       "      <td>05/07/2017 1:48:14 PM</td>\n",
       "      <td>1</td>\n",
       "      <td>3.70</td>\n",
       "      <td>1</td>\n",
       "      <td>N</td>\n",
       "      <td>188</td>\n",
       "      <td>97</td>\n",
       "      <td>1</td>\n",
       "      <td>20.5</td>\n",
       "      <td>0.0</td>\n",
       "      <td>0.5</td>\n",
       "      <td>6.39</td>\n",
       "      <td>0.0</td>\n",
       "      <td>0.3</td>\n",
       "      <td>27.69</td>\n",
       "    </tr>\n",
       "    <tr>\n",
       "      <th>4</th>\n",
       "      <td>30841670</td>\n",
       "      <td>2</td>\n",
       "      <td>04/15/2017 11:32:20 PM</td>\n",
       "      <td>04/15/2017 11:49:03 PM</td>\n",
       "      <td>1</td>\n",
       "      <td>4.37</td>\n",
       "      <td>1</td>\n",
       "      <td>N</td>\n",
       "      <td>4</td>\n",
       "      <td>112</td>\n",
       "      <td>2</td>\n",
       "      <td>16.5</td>\n",
       "      <td>0.5</td>\n",
       "      <td>0.5</td>\n",
       "      <td>0.00</td>\n",
       "      <td>0.0</td>\n",
       "      <td>0.3</td>\n",
       "      <td>17.80</td>\n",
       "    </tr>\n",
       "  </tbody>\n",
       "</table>\n",
       "</div>"
      ],
      "text/plain": [
       "   Unnamed: 0  VendorID    tpep_pickup_datetime   tpep_dropoff_datetime  \\\n",
       "0    24870114         2   03/25/2017 8:55:43 AM   03/25/2017 9:09:47 AM   \n",
       "1    35634249         1   04/11/2017 2:53:28 PM   04/11/2017 3:19:58 PM   \n",
       "2   106203690         1   12/15/2017 7:26:56 AM   12/15/2017 7:34:08 AM   \n",
       "3    38942136         2   05/07/2017 1:17:59 PM   05/07/2017 1:48:14 PM   \n",
       "4    30841670         2  04/15/2017 11:32:20 PM  04/15/2017 11:49:03 PM   \n",
       "\n",
       "   passenger_count  trip_distance  RatecodeID store_and_fwd_flag  \\\n",
       "0                6           3.34           1                  N   \n",
       "1                1           1.80           1                  N   \n",
       "2                1           1.00           1                  N   \n",
       "3                1           3.70           1                  N   \n",
       "4                1           4.37           1                  N   \n",
       "\n",
       "   PULocationID  DOLocationID  payment_type  fare_amount  extra  mta_tax  \\\n",
       "0           100           231             1         13.0    0.0      0.5   \n",
       "1           186            43             1         16.0    0.0      0.5   \n",
       "2           262           236             1          6.5    0.0      0.5   \n",
       "3           188            97             1         20.5    0.0      0.5   \n",
       "4             4           112             2         16.5    0.5      0.5   \n",
       "\n",
       "   tip_amount  tolls_amount  improvement_surcharge  total_amount  \n",
       "0        2.76           0.0                    0.3         16.56  \n",
       "1        4.00           0.0                    0.3         20.80  \n",
       "2        1.45           0.0                    0.3          8.75  \n",
       "3        6.39           0.0                    0.3         27.69  \n",
       "4        0.00           0.0                    0.3         17.80  "
      ]
     },
     "execution_count": 3,
     "metadata": {},
     "output_type": "execute_result"
    }
   ],
   "source": [
    "nyc_taxi.head()"
   ]
  },
  {
   "cell_type": "code",
   "execution_count": 4,
   "id": "e79c889f-0a71-4a14-8d7a-595bd1371d8b",
   "metadata": {},
   "outputs": [
    {
     "data": {
      "text/plain": [
       "408582"
      ]
     },
     "execution_count": 4,
     "metadata": {},
     "output_type": "execute_result"
    }
   ],
   "source": [
    "nyc_taxi.size"
   ]
  },
  {
   "cell_type": "markdown",
   "id": "7244ca78-3161-4ce7-8b1d-b20a9a352b23",
   "metadata": {},
   "source": [
    "There are 4,08,582 values in the dataset."
   ]
  },
  {
   "cell_type": "code",
   "execution_count": 5,
   "id": "39baf0f5-846a-4e4c-8fd3-c8cc46dae27e",
   "metadata": {},
   "outputs": [
    {
     "name": "stdout",
     "output_type": "stream",
     "text": [
      "<class 'pandas.core.frame.DataFrame'>\n",
      "RangeIndex: 22699 entries, 0 to 22698\n",
      "Data columns (total 18 columns):\n",
      " #   Column                 Non-Null Count  Dtype  \n",
      "---  ------                 --------------  -----  \n",
      " 0   Unnamed: 0             22699 non-null  int64  \n",
      " 1   VendorID               22699 non-null  int64  \n",
      " 2   tpep_pickup_datetime   22699 non-null  object \n",
      " 3   tpep_dropoff_datetime  22699 non-null  object \n",
      " 4   passenger_count        22699 non-null  int64  \n",
      " 5   trip_distance          22699 non-null  float64\n",
      " 6   RatecodeID             22699 non-null  int64  \n",
      " 7   store_and_fwd_flag     22699 non-null  object \n",
      " 8   PULocationID           22699 non-null  int64  \n",
      " 9   DOLocationID           22699 non-null  int64  \n",
      " 10  payment_type           22699 non-null  int64  \n",
      " 11  fare_amount            22699 non-null  float64\n",
      " 12  extra                  22699 non-null  float64\n",
      " 13  mta_tax                22699 non-null  float64\n",
      " 14  tip_amount             22699 non-null  float64\n",
      " 15  tolls_amount           22699 non-null  float64\n",
      " 16  improvement_surcharge  22699 non-null  float64\n",
      " 17  total_amount           22699 non-null  float64\n",
      "dtypes: float64(8), int64(7), object(3)\n",
      "memory usage: 6.7 MB\n"
     ]
    }
   ],
   "source": [
    "nyc_taxi.info(memory_usage='deep')"
   ]
  },
  {
   "cell_type": "markdown",
   "id": "bbb2b9cd-2a9d-498e-8f8b-7eaabc6a63ab",
   "metadata": {},
   "source": [
    "The dataset has 22,699 records. There are no NULL values.\n",
    "\n",
    "There is an unknown column `Unnamed: 0`. This could be the `ID` column described in the data dictionary which is missing here.\n",
    "\n",
    "Datetime columns (`tpep_pickup_datetime` and `tpep_dropoff_datetime`) are represented as `object` data type.\n",
    "\n",
    "Categorical variables such as `VendorID`, `RatecodeID`, and `payment_type` are represented as `int`. We will have to be careful when performing aggregations on these columns."
   ]
  },
  {
   "cell_type": "code",
   "execution_count": 6,
   "id": "565b1701-ffda-4726-a2bc-d8f2f148b2c1",
   "metadata": {},
   "outputs": [
    {
     "data": {
      "text/plain": [
       "np.int64(0)"
      ]
     },
     "execution_count": 6,
     "metadata": {},
     "output_type": "execute_result"
    }
   ],
   "source": [
    "nyc_taxi.duplicated().sum()"
   ]
  },
  {
   "cell_type": "markdown",
   "id": "a0412763-38ce-440e-91cf-3b247222259b",
   "metadata": {},
   "source": [
    "There are no duplicate records."
   ]
  },
  {
   "cell_type": "code",
   "execution_count": 7,
   "id": "938ab76e-e4dc-485a-adda-228e3c376e48",
   "metadata": {},
   "outputs": [
    {
     "data": {
      "text/plain": [
       "Unnamed: 0               22699\n",
       "VendorID                     2\n",
       "tpep_pickup_datetime     22687\n",
       "tpep_dropoff_datetime    22688\n",
       "passenger_count              7\n",
       "trip_distance             1545\n",
       "RatecodeID                   6\n",
       "store_and_fwd_flag           2\n",
       "PULocationID               152\n",
       "DOLocationID               216\n",
       "payment_type                 4\n",
       "fare_amount                185\n",
       "extra                        6\n",
       "mta_tax                      3\n",
       "tip_amount                 742\n",
       "tolls_amount                38\n",
       "improvement_surcharge        3\n",
       "total_amount              1369\n",
       "dtype: int64"
      ]
     },
     "execution_count": 7,
     "metadata": {},
     "output_type": "execute_result"
    }
   ],
   "source": [
    "nyc_taxi.nunique()"
   ]
  },
  {
   "cell_type": "code",
   "execution_count": 8,
   "id": "633b0567-51db-427d-aa64-6da90d8cbe83",
   "metadata": {},
   "outputs": [
    {
     "name": "stdout",
     "output_type": "stream",
     "text": [
      "VendorID [2 1]\n",
      "RatecodeID [ 1  2  5  3  4 99]\n",
      "payment_type [1 2 3 4]\n"
     ]
    }
   ],
   "source": [
    "cat_cols = ['VendorID', 'RatecodeID', 'payment_type']\n",
    "for col in cat_cols:\n",
    "    print(col, nyc_taxi[col].unique())"
   ]
  },
  {
   "cell_type": "markdown",
   "id": "e0a4d71e-8176-4468-8973-6ee42edb47a8",
   "metadata": {},
   "source": [
    "Some records have a `RatecodeID` of 99. This represents an unknown value."
   ]
  },
  {
   "cell_type": "code",
   "execution_count": 9,
   "id": "e94fe319-471f-4688-9854-1ca4d9a0399d",
   "metadata": {},
   "outputs": [
    {
     "data": {
      "text/html": [
       "<div>\n",
       "<style scoped>\n",
       "    .dataframe tbody tr th:only-of-type {\n",
       "        vertical-align: middle;\n",
       "    }\n",
       "\n",
       "    .dataframe tbody tr th {\n",
       "        vertical-align: top;\n",
       "    }\n",
       "\n",
       "    .dataframe thead th {\n",
       "        text-align: right;\n",
       "    }\n",
       "</style>\n",
       "<table border=\"1\" class=\"dataframe\">\n",
       "  <thead>\n",
       "    <tr style=\"text-align: right;\">\n",
       "      <th></th>\n",
       "      <th>Unnamed: 0</th>\n",
       "      <th>VendorID</th>\n",
       "      <th>tpep_pickup_datetime</th>\n",
       "      <th>tpep_dropoff_datetime</th>\n",
       "      <th>passenger_count</th>\n",
       "      <th>trip_distance</th>\n",
       "      <th>RatecodeID</th>\n",
       "      <th>store_and_fwd_flag</th>\n",
       "      <th>PULocationID</th>\n",
       "      <th>DOLocationID</th>\n",
       "      <th>payment_type</th>\n",
       "      <th>fare_amount</th>\n",
       "      <th>extra</th>\n",
       "      <th>mta_tax</th>\n",
       "      <th>tip_amount</th>\n",
       "      <th>tolls_amount</th>\n",
       "      <th>improvement_surcharge</th>\n",
       "      <th>total_amount</th>\n",
       "    </tr>\n",
       "  </thead>\n",
       "  <tbody>\n",
       "    <tr>\n",
       "      <th>12501</th>\n",
       "      <td>31724098</td>\n",
       "      <td>1</td>\n",
       "      <td>04/18/2017 5:47:58 PM</td>\n",
       "      <td>04/18/2017 5:47:58 PM</td>\n",
       "      <td>0</td>\n",
       "      <td>0.0</td>\n",
       "      <td>99</td>\n",
       "      <td>N</td>\n",
       "      <td>264</td>\n",
       "      <td>264</td>\n",
       "      <td>1</td>\n",
       "      <td>77.2</td>\n",
       "      <td>0.0</td>\n",
       "      <td>0.5</td>\n",
       "      <td>0.0</td>\n",
       "      <td>0.0</td>\n",
       "      <td>0.3</td>\n",
       "      <td>78.0</td>\n",
       "    </tr>\n",
       "  </tbody>\n",
       "</table>\n",
       "</div>"
      ],
      "text/plain": [
       "       Unnamed: 0  VendorID   tpep_pickup_datetime  tpep_dropoff_datetime  \\\n",
       "12501    31724098         1  04/18/2017 5:47:58 PM  04/18/2017 5:47:58 PM   \n",
       "\n",
       "       passenger_count  trip_distance  RatecodeID store_and_fwd_flag  \\\n",
       "12501                0            0.0          99                  N   \n",
       "\n",
       "       PULocationID  DOLocationID  payment_type  fare_amount  extra  mta_tax  \\\n",
       "12501           264           264             1         77.2    0.0      0.5   \n",
       "\n",
       "       tip_amount  tolls_amount  improvement_surcharge  total_amount  \n",
       "12501         0.0           0.0                    0.3          78.0  "
      ]
     },
     "execution_count": 9,
     "metadata": {},
     "output_type": "execute_result"
    }
   ],
   "source": [
    "nyc_taxi[nyc_taxi['RatecodeID']==99]"
   ]
  },
  {
   "cell_type": "markdown",
   "id": "25f6bb76-3047-4739-844e-9afec936c457",
   "metadata": {},
   "source": [
    "There is one record with unknown value for `RatecodeID` (99)."
   ]
  },
  {
   "cell_type": "code",
   "execution_count": 10,
   "id": "0da7c1eb-6dd7-4e9d-958b-0b1d18d5c9f7",
   "metadata": {},
   "outputs": [],
   "source": [
    "nyc_taxi['VendorID'] = nyc_taxi['VendorID'].astype('category')\n",
    "nyc_taxi['RatecodeID'] = nyc_taxi['RatecodeID'].astype('category')\n",
    "nyc_taxi['payment_type'] = nyc_taxi['payment_type'].astype('category')"
   ]
  },
  {
   "cell_type": "code",
   "execution_count": 11,
   "id": "279c2958-4b2b-4cef-a7a3-117365421a98",
   "metadata": {},
   "outputs": [
    {
     "data": {
      "text/plain": [
       "CategoricalDtype(categories=[1, 2], ordered=False, categories_dtype=int64)"
      ]
     },
     "execution_count": 11,
     "metadata": {},
     "output_type": "execute_result"
    }
   ],
   "source": [
    "nyc_taxi['VendorID'].dtype"
   ]
  },
  {
   "cell_type": "code",
   "execution_count": 12,
   "id": "94465a7b-e058-46a3-b466-862ed78047b0",
   "metadata": {},
   "outputs": [
    {
     "data": {
      "text/plain": [
       "CategoricalDtype(categories=[1, 2, 3, 4, 5, 99], ordered=False, categories_dtype=int64)"
      ]
     },
     "execution_count": 12,
     "metadata": {},
     "output_type": "execute_result"
    }
   ],
   "source": [
    "nyc_taxi['RatecodeID'].dtype"
   ]
  },
  {
   "cell_type": "code",
   "execution_count": 13,
   "id": "91e7316b-c513-49d2-99db-7d9e8be729d3",
   "metadata": {},
   "outputs": [
    {
     "data": {
      "text/plain": [
       "CategoricalDtype(categories=[1, 2, 3, 4], ordered=False, categories_dtype=int64)"
      ]
     },
     "execution_count": 13,
     "metadata": {},
     "output_type": "execute_result"
    }
   ],
   "source": [
    "nyc_taxi['payment_type'].dtype"
   ]
  },
  {
   "cell_type": "code",
   "execution_count": 14,
   "id": "2a2ac686-ab56-4f07-b5f7-cd46ca8512ca",
   "metadata": {},
   "outputs": [],
   "source": [
    "nyc_taxi['tpep_pickup_datetime'] = pd.to_datetime(nyc_taxi['tpep_pickup_datetime'])\n",
    "nyc_taxi['tpep_dropoff_datetime'] = pd.to_datetime(nyc_taxi['tpep_dropoff_datetime'])"
   ]
  },
  {
   "cell_type": "code",
   "execution_count": 15,
   "id": "e30873e6-48e1-42d1-adbe-c3c6d28b8ffe",
   "metadata": {},
   "outputs": [
    {
     "data": {
      "text/html": [
       "<div>\n",
       "<style scoped>\n",
       "    .dataframe tbody tr th:only-of-type {\n",
       "        vertical-align: middle;\n",
       "    }\n",
       "\n",
       "    .dataframe tbody tr th {\n",
       "        vertical-align: top;\n",
       "    }\n",
       "\n",
       "    .dataframe thead th {\n",
       "        text-align: right;\n",
       "    }\n",
       "</style>\n",
       "<table border=\"1\" class=\"dataframe\">\n",
       "  <thead>\n",
       "    <tr style=\"text-align: right;\">\n",
       "      <th></th>\n",
       "      <th>Unnamed: 0</th>\n",
       "      <th>VendorID</th>\n",
       "      <th>tpep_pickup_datetime</th>\n",
       "      <th>tpep_dropoff_datetime</th>\n",
       "      <th>passenger_count</th>\n",
       "      <th>trip_distance</th>\n",
       "      <th>RatecodeID</th>\n",
       "      <th>store_and_fwd_flag</th>\n",
       "      <th>PULocationID</th>\n",
       "      <th>DOLocationID</th>\n",
       "      <th>payment_type</th>\n",
       "      <th>fare_amount</th>\n",
       "      <th>extra</th>\n",
       "      <th>mta_tax</th>\n",
       "      <th>tip_amount</th>\n",
       "      <th>tolls_amount</th>\n",
       "      <th>improvement_surcharge</th>\n",
       "      <th>total_amount</th>\n",
       "    </tr>\n",
       "  </thead>\n",
       "  <tbody>\n",
       "    <tr>\n",
       "      <th>0</th>\n",
       "      <td>24870114</td>\n",
       "      <td>2</td>\n",
       "      <td>2017-03-25 08:55:43</td>\n",
       "      <td>2017-03-25 09:09:47</td>\n",
       "      <td>6</td>\n",
       "      <td>3.34</td>\n",
       "      <td>1</td>\n",
       "      <td>N</td>\n",
       "      <td>100</td>\n",
       "      <td>231</td>\n",
       "      <td>1</td>\n",
       "      <td>13.0</td>\n",
       "      <td>0.0</td>\n",
       "      <td>0.5</td>\n",
       "      <td>2.76</td>\n",
       "      <td>0.0</td>\n",
       "      <td>0.3</td>\n",
       "      <td>16.56</td>\n",
       "    </tr>\n",
       "    <tr>\n",
       "      <th>1</th>\n",
       "      <td>35634249</td>\n",
       "      <td>1</td>\n",
       "      <td>2017-04-11 14:53:28</td>\n",
       "      <td>2017-04-11 15:19:58</td>\n",
       "      <td>1</td>\n",
       "      <td>1.80</td>\n",
       "      <td>1</td>\n",
       "      <td>N</td>\n",
       "      <td>186</td>\n",
       "      <td>43</td>\n",
       "      <td>1</td>\n",
       "      <td>16.0</td>\n",
       "      <td>0.0</td>\n",
       "      <td>0.5</td>\n",
       "      <td>4.00</td>\n",
       "      <td>0.0</td>\n",
       "      <td>0.3</td>\n",
       "      <td>20.80</td>\n",
       "    </tr>\n",
       "    <tr>\n",
       "      <th>2</th>\n",
       "      <td>106203690</td>\n",
       "      <td>1</td>\n",
       "      <td>2017-12-15 07:26:56</td>\n",
       "      <td>2017-12-15 07:34:08</td>\n",
       "      <td>1</td>\n",
       "      <td>1.00</td>\n",
       "      <td>1</td>\n",
       "      <td>N</td>\n",
       "      <td>262</td>\n",
       "      <td>236</td>\n",
       "      <td>1</td>\n",
       "      <td>6.5</td>\n",
       "      <td>0.0</td>\n",
       "      <td>0.5</td>\n",
       "      <td>1.45</td>\n",
       "      <td>0.0</td>\n",
       "      <td>0.3</td>\n",
       "      <td>8.75</td>\n",
       "    </tr>\n",
       "    <tr>\n",
       "      <th>3</th>\n",
       "      <td>38942136</td>\n",
       "      <td>2</td>\n",
       "      <td>2017-05-07 13:17:59</td>\n",
       "      <td>2017-05-07 13:48:14</td>\n",
       "      <td>1</td>\n",
       "      <td>3.70</td>\n",
       "      <td>1</td>\n",
       "      <td>N</td>\n",
       "      <td>188</td>\n",
       "      <td>97</td>\n",
       "      <td>1</td>\n",
       "      <td>20.5</td>\n",
       "      <td>0.0</td>\n",
       "      <td>0.5</td>\n",
       "      <td>6.39</td>\n",
       "      <td>0.0</td>\n",
       "      <td>0.3</td>\n",
       "      <td>27.69</td>\n",
       "    </tr>\n",
       "    <tr>\n",
       "      <th>4</th>\n",
       "      <td>30841670</td>\n",
       "      <td>2</td>\n",
       "      <td>2017-04-15 23:32:20</td>\n",
       "      <td>2017-04-15 23:49:03</td>\n",
       "      <td>1</td>\n",
       "      <td>4.37</td>\n",
       "      <td>1</td>\n",
       "      <td>N</td>\n",
       "      <td>4</td>\n",
       "      <td>112</td>\n",
       "      <td>2</td>\n",
       "      <td>16.5</td>\n",
       "      <td>0.5</td>\n",
       "      <td>0.5</td>\n",
       "      <td>0.00</td>\n",
       "      <td>0.0</td>\n",
       "      <td>0.3</td>\n",
       "      <td>17.80</td>\n",
       "    </tr>\n",
       "  </tbody>\n",
       "</table>\n",
       "</div>"
      ],
      "text/plain": [
       "   Unnamed: 0 VendorID tpep_pickup_datetime tpep_dropoff_datetime  \\\n",
       "0    24870114        2  2017-03-25 08:55:43   2017-03-25 09:09:47   \n",
       "1    35634249        1  2017-04-11 14:53:28   2017-04-11 15:19:58   \n",
       "2   106203690        1  2017-12-15 07:26:56   2017-12-15 07:34:08   \n",
       "3    38942136        2  2017-05-07 13:17:59   2017-05-07 13:48:14   \n",
       "4    30841670        2  2017-04-15 23:32:20   2017-04-15 23:49:03   \n",
       "\n",
       "   passenger_count  trip_distance RatecodeID store_and_fwd_flag  PULocationID  \\\n",
       "0                6           3.34          1                  N           100   \n",
       "1                1           1.80          1                  N           186   \n",
       "2                1           1.00          1                  N           262   \n",
       "3                1           3.70          1                  N           188   \n",
       "4                1           4.37          1                  N             4   \n",
       "\n",
       "   DOLocationID payment_type  fare_amount  extra  mta_tax  tip_amount  \\\n",
       "0           231            1         13.0    0.0      0.5        2.76   \n",
       "1            43            1         16.0    0.0      0.5        4.00   \n",
       "2           236            1          6.5    0.0      0.5        1.45   \n",
       "3            97            1         20.5    0.0      0.5        6.39   \n",
       "4           112            2         16.5    0.5      0.5        0.00   \n",
       "\n",
       "   tolls_amount  improvement_surcharge  total_amount  \n",
       "0           0.0                    0.3         16.56  \n",
       "1           0.0                    0.3         20.80  \n",
       "2           0.0                    0.3          8.75  \n",
       "3           0.0                    0.3         27.69  \n",
       "4           0.0                    0.3         17.80  "
      ]
     },
     "execution_count": 15,
     "metadata": {},
     "output_type": "execute_result"
    }
   ],
   "source": [
    "nyc_taxi.head()"
   ]
  },
  {
   "cell_type": "code",
   "execution_count": 16,
   "id": "542987c5-e15d-410d-9951-6b6f094be170",
   "metadata": {},
   "outputs": [
    {
     "data": {
      "text/html": [
       "<div>\n",
       "<style scoped>\n",
       "    .dataframe tbody tr th:only-of-type {\n",
       "        vertical-align: middle;\n",
       "    }\n",
       "\n",
       "    .dataframe tbody tr th {\n",
       "        vertical-align: top;\n",
       "    }\n",
       "\n",
       "    .dataframe thead th {\n",
       "        text-align: right;\n",
       "    }\n",
       "</style>\n",
       "<table border=\"1\" class=\"dataframe\">\n",
       "  <thead>\n",
       "    <tr style=\"text-align: right;\">\n",
       "      <th></th>\n",
       "      <th>Unnamed: 0</th>\n",
       "      <th>tpep_pickup_datetime</th>\n",
       "      <th>tpep_dropoff_datetime</th>\n",
       "      <th>passenger_count</th>\n",
       "      <th>trip_distance</th>\n",
       "      <th>PULocationID</th>\n",
       "      <th>DOLocationID</th>\n",
       "      <th>fare_amount</th>\n",
       "      <th>extra</th>\n",
       "      <th>mta_tax</th>\n",
       "      <th>tip_amount</th>\n",
       "      <th>tolls_amount</th>\n",
       "      <th>improvement_surcharge</th>\n",
       "      <th>total_amount</th>\n",
       "    </tr>\n",
       "  </thead>\n",
       "  <tbody>\n",
       "    <tr>\n",
       "      <th>count</th>\n",
       "      <td>2.269900e+04</td>\n",
       "      <td>22699</td>\n",
       "      <td>22699</td>\n",
       "      <td>22699.000000</td>\n",
       "      <td>22699.000000</td>\n",
       "      <td>22699.000000</td>\n",
       "      <td>22699.000000</td>\n",
       "      <td>22699.000000</td>\n",
       "      <td>22699.000000</td>\n",
       "      <td>22699.000000</td>\n",
       "      <td>22699.000000</td>\n",
       "      <td>22699.000000</td>\n",
       "      <td>22699.000000</td>\n",
       "      <td>22699.000000</td>\n",
       "    </tr>\n",
       "    <tr>\n",
       "      <th>mean</th>\n",
       "      <td>5.675849e+07</td>\n",
       "      <td>2017-06-29 07:32:48.973126656</td>\n",
       "      <td>2017-06-29 07:49:49.799726848</td>\n",
       "      <td>1.642319</td>\n",
       "      <td>2.913313</td>\n",
       "      <td>162.412353</td>\n",
       "      <td>161.527997</td>\n",
       "      <td>13.026629</td>\n",
       "      <td>0.333275</td>\n",
       "      <td>0.497445</td>\n",
       "      <td>1.835781</td>\n",
       "      <td>0.312542</td>\n",
       "      <td>0.299551</td>\n",
       "      <td>16.310502</td>\n",
       "    </tr>\n",
       "    <tr>\n",
       "      <th>min</th>\n",
       "      <td>1.212700e+04</td>\n",
       "      <td>2017-01-01 00:08:25</td>\n",
       "      <td>2017-01-01 00:17:20</td>\n",
       "      <td>0.000000</td>\n",
       "      <td>0.000000</td>\n",
       "      <td>1.000000</td>\n",
       "      <td>1.000000</td>\n",
       "      <td>-120.000000</td>\n",
       "      <td>-1.000000</td>\n",
       "      <td>-0.500000</td>\n",
       "      <td>0.000000</td>\n",
       "      <td>0.000000</td>\n",
       "      <td>-0.300000</td>\n",
       "      <td>-120.300000</td>\n",
       "    </tr>\n",
       "    <tr>\n",
       "      <th>25%</th>\n",
       "      <td>2.852056e+07</td>\n",
       "      <td>2017-03-30 03:09:38.500000</td>\n",
       "      <td>2017-03-30 03:11:20.500000</td>\n",
       "      <td>1.000000</td>\n",
       "      <td>0.990000</td>\n",
       "      <td>114.000000</td>\n",
       "      <td>112.000000</td>\n",
       "      <td>6.500000</td>\n",
       "      <td>0.000000</td>\n",
       "      <td>0.500000</td>\n",
       "      <td>0.000000</td>\n",
       "      <td>0.000000</td>\n",
       "      <td>0.300000</td>\n",
       "      <td>8.750000</td>\n",
       "    </tr>\n",
       "    <tr>\n",
       "      <th>50%</th>\n",
       "      <td>5.673150e+07</td>\n",
       "      <td>2017-06-23 12:35:57</td>\n",
       "      <td>2017-06-23 12:55:11</td>\n",
       "      <td>1.000000</td>\n",
       "      <td>1.610000</td>\n",
       "      <td>162.000000</td>\n",
       "      <td>162.000000</td>\n",
       "      <td>9.500000</td>\n",
       "      <td>0.000000</td>\n",
       "      <td>0.500000</td>\n",
       "      <td>1.350000</td>\n",
       "      <td>0.000000</td>\n",
       "      <td>0.300000</td>\n",
       "      <td>11.800000</td>\n",
       "    </tr>\n",
       "    <tr>\n",
       "      <th>75%</th>\n",
       "      <td>8.537452e+07</td>\n",
       "      <td>2017-10-02 10:34:34</td>\n",
       "      <td>2017-10-02 10:53:47</td>\n",
       "      <td>2.000000</td>\n",
       "      <td>3.060000</td>\n",
       "      <td>233.000000</td>\n",
       "      <td>233.000000</td>\n",
       "      <td>14.500000</td>\n",
       "      <td>0.500000</td>\n",
       "      <td>0.500000</td>\n",
       "      <td>2.450000</td>\n",
       "      <td>0.000000</td>\n",
       "      <td>0.300000</td>\n",
       "      <td>17.800000</td>\n",
       "    </tr>\n",
       "    <tr>\n",
       "      <th>max</th>\n",
       "      <td>1.134863e+08</td>\n",
       "      <td>2017-12-31 23:45:30</td>\n",
       "      <td>2017-12-31 23:49:24</td>\n",
       "      <td>6.000000</td>\n",
       "      <td>33.960000</td>\n",
       "      <td>265.000000</td>\n",
       "      <td>265.000000</td>\n",
       "      <td>999.990000</td>\n",
       "      <td>4.500000</td>\n",
       "      <td>0.500000</td>\n",
       "      <td>200.000000</td>\n",
       "      <td>19.100000</td>\n",
       "      <td>0.300000</td>\n",
       "      <td>1200.290000</td>\n",
       "    </tr>\n",
       "    <tr>\n",
       "      <th>std</th>\n",
       "      <td>3.274493e+07</td>\n",
       "      <td>NaN</td>\n",
       "      <td>NaN</td>\n",
       "      <td>1.285231</td>\n",
       "      <td>3.653171</td>\n",
       "      <td>66.633373</td>\n",
       "      <td>70.139691</td>\n",
       "      <td>13.243791</td>\n",
       "      <td>0.463097</td>\n",
       "      <td>0.039465</td>\n",
       "      <td>2.800626</td>\n",
       "      <td>1.399212</td>\n",
       "      <td>0.015673</td>\n",
       "      <td>16.097295</td>\n",
       "    </tr>\n",
       "  </tbody>\n",
       "</table>\n",
       "</div>"
      ],
      "text/plain": [
       "         Unnamed: 0           tpep_pickup_datetime  \\\n",
       "count  2.269900e+04                          22699   \n",
       "mean   5.675849e+07  2017-06-29 07:32:48.973126656   \n",
       "min    1.212700e+04            2017-01-01 00:08:25   \n",
       "25%    2.852056e+07     2017-03-30 03:09:38.500000   \n",
       "50%    5.673150e+07            2017-06-23 12:35:57   \n",
       "75%    8.537452e+07            2017-10-02 10:34:34   \n",
       "max    1.134863e+08            2017-12-31 23:45:30   \n",
       "std    3.274493e+07                            NaN   \n",
       "\n",
       "               tpep_dropoff_datetime  passenger_count  trip_distance  \\\n",
       "count                          22699     22699.000000   22699.000000   \n",
       "mean   2017-06-29 07:49:49.799726848         1.642319       2.913313   \n",
       "min              2017-01-01 00:17:20         0.000000       0.000000   \n",
       "25%       2017-03-30 03:11:20.500000         1.000000       0.990000   \n",
       "50%              2017-06-23 12:55:11         1.000000       1.610000   \n",
       "75%              2017-10-02 10:53:47         2.000000       3.060000   \n",
       "max              2017-12-31 23:49:24         6.000000      33.960000   \n",
       "std                              NaN         1.285231       3.653171   \n",
       "\n",
       "       PULocationID  DOLocationID   fare_amount         extra       mta_tax  \\\n",
       "count  22699.000000  22699.000000  22699.000000  22699.000000  22699.000000   \n",
       "mean     162.412353    161.527997     13.026629      0.333275      0.497445   \n",
       "min        1.000000      1.000000   -120.000000     -1.000000     -0.500000   \n",
       "25%      114.000000    112.000000      6.500000      0.000000      0.500000   \n",
       "50%      162.000000    162.000000      9.500000      0.000000      0.500000   \n",
       "75%      233.000000    233.000000     14.500000      0.500000      0.500000   \n",
       "max      265.000000    265.000000    999.990000      4.500000      0.500000   \n",
       "std       66.633373     70.139691     13.243791      0.463097      0.039465   \n",
       "\n",
       "         tip_amount  tolls_amount  improvement_surcharge  total_amount  \n",
       "count  22699.000000  22699.000000           22699.000000  22699.000000  \n",
       "mean       1.835781      0.312542               0.299551     16.310502  \n",
       "min        0.000000      0.000000              -0.300000   -120.300000  \n",
       "25%        0.000000      0.000000               0.300000      8.750000  \n",
       "50%        1.350000      0.000000               0.300000     11.800000  \n",
       "75%        2.450000      0.000000               0.300000     17.800000  \n",
       "max      200.000000     19.100000               0.300000   1200.290000  \n",
       "std        2.800626      1.399212               0.015673     16.097295  "
      ]
     },
     "execution_count": 16,
     "metadata": {},
     "output_type": "execute_result"
    }
   ],
   "source": [
    "nyc_taxi.describe()"
   ]
  },
  {
   "cell_type": "markdown",
   "id": "a21eee73-2850-453d-b01c-270906d439fc",
   "metadata": {},
   "source": [
    "The maximum value for `trip_distance` is around 34 miles. This is very high when compared with other rides which were mostly between 1 to 3 miles. \n",
    "Also, some rides had a `trip_distance` of 0 miles. This is possible when the passenger cancels the booking before the trip starts. But, it is better to further investigate these values.\n",
    "\n",
    "The highest `fare_amount` is around \\\\$1000 which is also very high than rest of the trips. Also, there are negative values which need to be investigated.\n",
    "\n",
    "The maximum values for `tip_amount`, and `tolls_amount` are also very high."
   ]
  },
  {
   "cell_type": "code",
   "execution_count": 17,
   "id": "c487baf5-a906-4bc2-981c-538bb9e00087",
   "metadata": {},
   "outputs": [
    {
     "data": {
      "text/html": [
       "<div>\n",
       "<style scoped>\n",
       "    .dataframe tbody tr th:only-of-type {\n",
       "        vertical-align: middle;\n",
       "    }\n",
       "\n",
       "    .dataframe tbody tr th {\n",
       "        vertical-align: top;\n",
       "    }\n",
       "\n",
       "    .dataframe thead th {\n",
       "        text-align: right;\n",
       "    }\n",
       "</style>\n",
       "<table border=\"1\" class=\"dataframe\">\n",
       "  <thead>\n",
       "    <tr style=\"text-align: right;\">\n",
       "      <th></th>\n",
       "      <th>Unnamed: 0</th>\n",
       "      <th>VendorID</th>\n",
       "      <th>tpep_pickup_datetime</th>\n",
       "      <th>tpep_dropoff_datetime</th>\n",
       "      <th>passenger_count</th>\n",
       "      <th>trip_distance</th>\n",
       "      <th>RatecodeID</th>\n",
       "      <th>store_and_fwd_flag</th>\n",
       "      <th>PULocationID</th>\n",
       "      <th>DOLocationID</th>\n",
       "      <th>payment_type</th>\n",
       "      <th>fare_amount</th>\n",
       "      <th>extra</th>\n",
       "      <th>mta_tax</th>\n",
       "      <th>tip_amount</th>\n",
       "      <th>tolls_amount</th>\n",
       "      <th>improvement_surcharge</th>\n",
       "      <th>total_amount</th>\n",
       "    </tr>\n",
       "  </thead>\n",
       "  <tbody>\n",
       "    <tr>\n",
       "      <th>9280</th>\n",
       "      <td>51810714</td>\n",
       "      <td>2</td>\n",
       "      <td>2017-06-18 23:33:25</td>\n",
       "      <td>2017-06-19 00:12:38</td>\n",
       "      <td>2</td>\n",
       "      <td>33.96</td>\n",
       "      <td>5</td>\n",
       "      <td>N</td>\n",
       "      <td>132</td>\n",
       "      <td>265</td>\n",
       "      <td>2</td>\n",
       "      <td>150.00</td>\n",
       "      <td>0.0</td>\n",
       "      <td>0.0</td>\n",
       "      <td>0.00</td>\n",
       "      <td>0.00</td>\n",
       "      <td>0.3</td>\n",
       "      <td>150.30</td>\n",
       "    </tr>\n",
       "    <tr>\n",
       "      <th>13861</th>\n",
       "      <td>40523668</td>\n",
       "      <td>2</td>\n",
       "      <td>2017-05-19 08:20:21</td>\n",
       "      <td>2017-05-19 09:20:30</td>\n",
       "      <td>1</td>\n",
       "      <td>33.92</td>\n",
       "      <td>5</td>\n",
       "      <td>N</td>\n",
       "      <td>229</td>\n",
       "      <td>265</td>\n",
       "      <td>1</td>\n",
       "      <td>200.01</td>\n",
       "      <td>0.0</td>\n",
       "      <td>0.5</td>\n",
       "      <td>51.64</td>\n",
       "      <td>5.76</td>\n",
       "      <td>0.3</td>\n",
       "      <td>258.21</td>\n",
       "    </tr>\n",
       "    <tr>\n",
       "      <th>6064</th>\n",
       "      <td>49894023</td>\n",
       "      <td>2</td>\n",
       "      <td>2017-06-13 12:30:22</td>\n",
       "      <td>2017-06-13 13:37:51</td>\n",
       "      <td>1</td>\n",
       "      <td>32.72</td>\n",
       "      <td>3</td>\n",
       "      <td>N</td>\n",
       "      <td>138</td>\n",
       "      <td>1</td>\n",
       "      <td>1</td>\n",
       "      <td>107.00</td>\n",
       "      <td>0.0</td>\n",
       "      <td>0.0</td>\n",
       "      <td>55.50</td>\n",
       "      <td>16.26</td>\n",
       "      <td>0.3</td>\n",
       "      <td>179.06</td>\n",
       "    </tr>\n",
       "    <tr>\n",
       "      <th>10291</th>\n",
       "      <td>76319330</td>\n",
       "      <td>2</td>\n",
       "      <td>2017-09-11 11:41:04</td>\n",
       "      <td>2017-09-11 12:18:58</td>\n",
       "      <td>1</td>\n",
       "      <td>31.95</td>\n",
       "      <td>4</td>\n",
       "      <td>N</td>\n",
       "      <td>138</td>\n",
       "      <td>265</td>\n",
       "      <td>2</td>\n",
       "      <td>131.00</td>\n",
       "      <td>0.0</td>\n",
       "      <td>0.5</td>\n",
       "      <td>0.00</td>\n",
       "      <td>0.00</td>\n",
       "      <td>0.3</td>\n",
       "      <td>131.80</td>\n",
       "    </tr>\n",
       "    <tr>\n",
       "      <th>29</th>\n",
       "      <td>94052446</td>\n",
       "      <td>2</td>\n",
       "      <td>2017-11-06 20:30:50</td>\n",
       "      <td>2017-11-07 00:00:00</td>\n",
       "      <td>1</td>\n",
       "      <td>30.83</td>\n",
       "      <td>1</td>\n",
       "      <td>N</td>\n",
       "      <td>132</td>\n",
       "      <td>23</td>\n",
       "      <td>1</td>\n",
       "      <td>80.00</td>\n",
       "      <td>0.5</td>\n",
       "      <td>0.5</td>\n",
       "      <td>18.56</td>\n",
       "      <td>11.52</td>\n",
       "      <td>0.3</td>\n",
       "      <td>111.38</td>\n",
       "    </tr>\n",
       "    <tr>\n",
       "      <th>18130</th>\n",
       "      <td>90375786</td>\n",
       "      <td>1</td>\n",
       "      <td>2017-10-26 14:45:01</td>\n",
       "      <td>2017-10-26 16:12:49</td>\n",
       "      <td>1</td>\n",
       "      <td>30.50</td>\n",
       "      <td>1</td>\n",
       "      <td>N</td>\n",
       "      <td>132</td>\n",
       "      <td>220</td>\n",
       "      <td>1</td>\n",
       "      <td>90.50</td>\n",
       "      <td>0.0</td>\n",
       "      <td>0.5</td>\n",
       "      <td>19.85</td>\n",
       "      <td>8.16</td>\n",
       "      <td>0.3</td>\n",
       "      <td>119.31</td>\n",
       "    </tr>\n",
       "    <tr>\n",
       "      <th>5792</th>\n",
       "      <td>68023798</td>\n",
       "      <td>2</td>\n",
       "      <td>2017-08-11 14:14:01</td>\n",
       "      <td>2017-08-11 15:17:31</td>\n",
       "      <td>1</td>\n",
       "      <td>30.33</td>\n",
       "      <td>2</td>\n",
       "      <td>N</td>\n",
       "      <td>132</td>\n",
       "      <td>158</td>\n",
       "      <td>1</td>\n",
       "      <td>52.00</td>\n",
       "      <td>0.0</td>\n",
       "      <td>0.5</td>\n",
       "      <td>14.64</td>\n",
       "      <td>5.76</td>\n",
       "      <td>0.3</td>\n",
       "      <td>73.20</td>\n",
       "    </tr>\n",
       "    <tr>\n",
       "      <th>15350</th>\n",
       "      <td>77309977</td>\n",
       "      <td>2</td>\n",
       "      <td>2017-09-14 13:44:44</td>\n",
       "      <td>2017-09-14 14:34:29</td>\n",
       "      <td>1</td>\n",
       "      <td>28.23</td>\n",
       "      <td>2</td>\n",
       "      <td>N</td>\n",
       "      <td>13</td>\n",
       "      <td>132</td>\n",
       "      <td>1</td>\n",
       "      <td>52.00</td>\n",
       "      <td>0.0</td>\n",
       "      <td>0.5</td>\n",
       "      <td>4.40</td>\n",
       "      <td>5.76</td>\n",
       "      <td>0.3</td>\n",
       "      <td>62.96</td>\n",
       "    </tr>\n",
       "    <tr>\n",
       "      <th>10302</th>\n",
       "      <td>43431843</td>\n",
       "      <td>1</td>\n",
       "      <td>2017-05-15 08:11:34</td>\n",
       "      <td>2017-05-15 09:03:16</td>\n",
       "      <td>1</td>\n",
       "      <td>28.20</td>\n",
       "      <td>2</td>\n",
       "      <td>N</td>\n",
       "      <td>90</td>\n",
       "      <td>132</td>\n",
       "      <td>1</td>\n",
       "      <td>52.00</td>\n",
       "      <td>0.0</td>\n",
       "      <td>0.5</td>\n",
       "      <td>11.71</td>\n",
       "      <td>5.76</td>\n",
       "      <td>0.3</td>\n",
       "      <td>70.27</td>\n",
       "    </tr>\n",
       "    <tr>\n",
       "      <th>2592</th>\n",
       "      <td>51094874</td>\n",
       "      <td>2</td>\n",
       "      <td>2017-06-16 18:51:20</td>\n",
       "      <td>2017-06-16 19:41:42</td>\n",
       "      <td>1</td>\n",
       "      <td>27.97</td>\n",
       "      <td>2</td>\n",
       "      <td>N</td>\n",
       "      <td>261</td>\n",
       "      <td>132</td>\n",
       "      <td>2</td>\n",
       "      <td>52.00</td>\n",
       "      <td>4.5</td>\n",
       "      <td>0.5</td>\n",
       "      <td>0.00</td>\n",
       "      <td>5.76</td>\n",
       "      <td>0.3</td>\n",
       "      <td>63.06</td>\n",
       "    </tr>\n",
       "  </tbody>\n",
       "</table>\n",
       "</div>"
      ],
      "text/plain": [
       "       Unnamed: 0 VendorID tpep_pickup_datetime tpep_dropoff_datetime  \\\n",
       "9280     51810714        2  2017-06-18 23:33:25   2017-06-19 00:12:38   \n",
       "13861    40523668        2  2017-05-19 08:20:21   2017-05-19 09:20:30   \n",
       "6064     49894023        2  2017-06-13 12:30:22   2017-06-13 13:37:51   \n",
       "10291    76319330        2  2017-09-11 11:41:04   2017-09-11 12:18:58   \n",
       "29       94052446        2  2017-11-06 20:30:50   2017-11-07 00:00:00   \n",
       "18130    90375786        1  2017-10-26 14:45:01   2017-10-26 16:12:49   \n",
       "5792     68023798        2  2017-08-11 14:14:01   2017-08-11 15:17:31   \n",
       "15350    77309977        2  2017-09-14 13:44:44   2017-09-14 14:34:29   \n",
       "10302    43431843        1  2017-05-15 08:11:34   2017-05-15 09:03:16   \n",
       "2592     51094874        2  2017-06-16 18:51:20   2017-06-16 19:41:42   \n",
       "\n",
       "       passenger_count  trip_distance RatecodeID store_and_fwd_flag  \\\n",
       "9280                 2          33.96          5                  N   \n",
       "13861                1          33.92          5                  N   \n",
       "6064                 1          32.72          3                  N   \n",
       "10291                1          31.95          4                  N   \n",
       "29                   1          30.83          1                  N   \n",
       "18130                1          30.50          1                  N   \n",
       "5792                 1          30.33          2                  N   \n",
       "15350                1          28.23          2                  N   \n",
       "10302                1          28.20          2                  N   \n",
       "2592                 1          27.97          2                  N   \n",
       "\n",
       "       PULocationID  DOLocationID payment_type  fare_amount  extra  mta_tax  \\\n",
       "9280            132           265            2       150.00    0.0      0.0   \n",
       "13861           229           265            1       200.01    0.0      0.5   \n",
       "6064            138             1            1       107.00    0.0      0.0   \n",
       "10291           138           265            2       131.00    0.0      0.5   \n",
       "29              132            23            1        80.00    0.5      0.5   \n",
       "18130           132           220            1        90.50    0.0      0.5   \n",
       "5792            132           158            1        52.00    0.0      0.5   \n",
       "15350            13           132            1        52.00    0.0      0.5   \n",
       "10302            90           132            1        52.00    0.0      0.5   \n",
       "2592            261           132            2        52.00    4.5      0.5   \n",
       "\n",
       "       tip_amount  tolls_amount  improvement_surcharge  total_amount  \n",
       "9280         0.00          0.00                    0.3        150.30  \n",
       "13861       51.64          5.76                    0.3        258.21  \n",
       "6064        55.50         16.26                    0.3        179.06  \n",
       "10291        0.00          0.00                    0.3        131.80  \n",
       "29          18.56         11.52                    0.3        111.38  \n",
       "18130       19.85          8.16                    0.3        119.31  \n",
       "5792        14.64          5.76                    0.3         73.20  \n",
       "15350        4.40          5.76                    0.3         62.96  \n",
       "10302       11.71          5.76                    0.3         70.27  \n",
       "2592         0.00          5.76                    0.3         63.06  "
      ]
     },
     "execution_count": 17,
     "metadata": {},
     "output_type": "execute_result"
    }
   ],
   "source": [
    "nyc_taxi.sort_values(by='trip_distance', ascending=False).head(10)"
   ]
  },
  {
   "cell_type": "markdown",
   "id": "6c828104-9d99-47b1-bc6f-2dca833213f1",
   "metadata": {},
   "source": [
    "It seems that there were some rides with `trip_distance` of around 30 miles. \n",
    "These values align with our initial observation of highest value being around 34 miles."
   ]
  },
  {
   "cell_type": "code",
   "execution_count": 18,
   "id": "5bab1655-e0e1-4993-b8e2-855a6f9a08b7",
   "metadata": {},
   "outputs": [
    {
     "data": {
      "text/html": [
       "<div>\n",
       "<style scoped>\n",
       "    .dataframe tbody tr th:only-of-type {\n",
       "        vertical-align: middle;\n",
       "    }\n",
       "\n",
       "    .dataframe tbody tr th {\n",
       "        vertical-align: top;\n",
       "    }\n",
       "\n",
       "    .dataframe thead th {\n",
       "        text-align: right;\n",
       "    }\n",
       "</style>\n",
       "<table border=\"1\" class=\"dataframe\">\n",
       "  <thead>\n",
       "    <tr style=\"text-align: right;\">\n",
       "      <th></th>\n",
       "      <th>Unnamed: 0</th>\n",
       "      <th>VendorID</th>\n",
       "      <th>tpep_pickup_datetime</th>\n",
       "      <th>tpep_dropoff_datetime</th>\n",
       "      <th>passenger_count</th>\n",
       "      <th>trip_distance</th>\n",
       "      <th>RatecodeID</th>\n",
       "      <th>store_and_fwd_flag</th>\n",
       "      <th>PULocationID</th>\n",
       "      <th>DOLocationID</th>\n",
       "      <th>payment_type</th>\n",
       "      <th>fare_amount</th>\n",
       "      <th>extra</th>\n",
       "      <th>mta_tax</th>\n",
       "      <th>tip_amount</th>\n",
       "      <th>tolls_amount</th>\n",
       "      <th>improvement_surcharge</th>\n",
       "      <th>total_amount</th>\n",
       "    </tr>\n",
       "  </thead>\n",
       "  <tbody>\n",
       "    <tr>\n",
       "      <th>8476</th>\n",
       "      <td>11157412</td>\n",
       "      <td>1</td>\n",
       "      <td>2017-02-06 05:50:10</td>\n",
       "      <td>2017-02-06 05:51:08</td>\n",
       "      <td>1</td>\n",
       "      <td>2.60</td>\n",
       "      <td>5</td>\n",
       "      <td>N</td>\n",
       "      <td>226</td>\n",
       "      <td>226</td>\n",
       "      <td>1</td>\n",
       "      <td>999.99</td>\n",
       "      <td>0.0</td>\n",
       "      <td>0.0</td>\n",
       "      <td>200.00</td>\n",
       "      <td>0.00</td>\n",
       "      <td>0.3</td>\n",
       "      <td>1200.29</td>\n",
       "    </tr>\n",
       "    <tr>\n",
       "      <th>20312</th>\n",
       "      <td>107558404</td>\n",
       "      <td>2</td>\n",
       "      <td>2017-12-19 09:40:46</td>\n",
       "      <td>2017-12-19 09:40:55</td>\n",
       "      <td>2</td>\n",
       "      <td>0.00</td>\n",
       "      <td>5</td>\n",
       "      <td>N</td>\n",
       "      <td>265</td>\n",
       "      <td>265</td>\n",
       "      <td>2</td>\n",
       "      <td>450.00</td>\n",
       "      <td>0.0</td>\n",
       "      <td>0.0</td>\n",
       "      <td>0.00</td>\n",
       "      <td>0.00</td>\n",
       "      <td>0.3</td>\n",
       "      <td>450.30</td>\n",
       "    </tr>\n",
       "    <tr>\n",
       "      <th>13861</th>\n",
       "      <td>40523668</td>\n",
       "      <td>2</td>\n",
       "      <td>2017-05-19 08:20:21</td>\n",
       "      <td>2017-05-19 09:20:30</td>\n",
       "      <td>1</td>\n",
       "      <td>33.92</td>\n",
       "      <td>5</td>\n",
       "      <td>N</td>\n",
       "      <td>229</td>\n",
       "      <td>265</td>\n",
       "      <td>1</td>\n",
       "      <td>200.01</td>\n",
       "      <td>0.0</td>\n",
       "      <td>0.5</td>\n",
       "      <td>51.64</td>\n",
       "      <td>5.76</td>\n",
       "      <td>0.3</td>\n",
       "      <td>258.21</td>\n",
       "    </tr>\n",
       "    <tr>\n",
       "      <th>15474</th>\n",
       "      <td>55538852</td>\n",
       "      <td>2</td>\n",
       "      <td>2017-06-06 20:55:01</td>\n",
       "      <td>2017-06-06 20:55:06</td>\n",
       "      <td>1</td>\n",
       "      <td>0.00</td>\n",
       "      <td>5</td>\n",
       "      <td>N</td>\n",
       "      <td>265</td>\n",
       "      <td>265</td>\n",
       "      <td>1</td>\n",
       "      <td>200.00</td>\n",
       "      <td>0.0</td>\n",
       "      <td>0.5</td>\n",
       "      <td>11.00</td>\n",
       "      <td>0.00</td>\n",
       "      <td>0.3</td>\n",
       "      <td>211.80</td>\n",
       "    </tr>\n",
       "    <tr>\n",
       "      <th>12511</th>\n",
       "      <td>107108848</td>\n",
       "      <td>2</td>\n",
       "      <td>2017-12-17 18:24:24</td>\n",
       "      <td>2017-12-17 18:24:42</td>\n",
       "      <td>1</td>\n",
       "      <td>0.00</td>\n",
       "      <td>5</td>\n",
       "      <td>N</td>\n",
       "      <td>265</td>\n",
       "      <td>265</td>\n",
       "      <td>1</td>\n",
       "      <td>175.00</td>\n",
       "      <td>0.0</td>\n",
       "      <td>0.0</td>\n",
       "      <td>46.69</td>\n",
       "      <td>11.75</td>\n",
       "      <td>0.3</td>\n",
       "      <td>233.74</td>\n",
       "    </tr>\n",
       "    <tr>\n",
       "      <th>3582</th>\n",
       "      <td>111653084</td>\n",
       "      <td>1</td>\n",
       "      <td>2017-01-01 23:53:01</td>\n",
       "      <td>2017-01-01 23:53:42</td>\n",
       "      <td>1</td>\n",
       "      <td>7.30</td>\n",
       "      <td>5</td>\n",
       "      <td>N</td>\n",
       "      <td>1</td>\n",
       "      <td>1</td>\n",
       "      <td>1</td>\n",
       "      <td>152.00</td>\n",
       "      <td>0.0</td>\n",
       "      <td>0.0</td>\n",
       "      <td>0.00</td>\n",
       "      <td>0.00</td>\n",
       "      <td>0.3</td>\n",
       "      <td>152.30</td>\n",
       "    </tr>\n",
       "    <tr>\n",
       "      <th>9280</th>\n",
       "      <td>51810714</td>\n",
       "      <td>2</td>\n",
       "      <td>2017-06-18 23:33:25</td>\n",
       "      <td>2017-06-19 00:12:38</td>\n",
       "      <td>2</td>\n",
       "      <td>33.96</td>\n",
       "      <td>5</td>\n",
       "      <td>N</td>\n",
       "      <td>132</td>\n",
       "      <td>265</td>\n",
       "      <td>2</td>\n",
       "      <td>150.00</td>\n",
       "      <td>0.0</td>\n",
       "      <td>0.0</td>\n",
       "      <td>0.00</td>\n",
       "      <td>0.00</td>\n",
       "      <td>0.3</td>\n",
       "      <td>150.30</td>\n",
       "    </tr>\n",
       "    <tr>\n",
       "      <th>16379</th>\n",
       "      <td>101198443</td>\n",
       "      <td>2</td>\n",
       "      <td>2017-11-30 10:41:11</td>\n",
       "      <td>2017-11-30 11:31:45</td>\n",
       "      <td>1</td>\n",
       "      <td>25.50</td>\n",
       "      <td>5</td>\n",
       "      <td>N</td>\n",
       "      <td>132</td>\n",
       "      <td>265</td>\n",
       "      <td>2</td>\n",
       "      <td>140.00</td>\n",
       "      <td>0.0</td>\n",
       "      <td>0.5</td>\n",
       "      <td>0.00</td>\n",
       "      <td>16.26</td>\n",
       "      <td>0.3</td>\n",
       "      <td>157.06</td>\n",
       "    </tr>\n",
       "    <tr>\n",
       "      <th>10291</th>\n",
       "      <td>76319330</td>\n",
       "      <td>2</td>\n",
       "      <td>2017-09-11 11:41:04</td>\n",
       "      <td>2017-09-11 12:18:58</td>\n",
       "      <td>1</td>\n",
       "      <td>31.95</td>\n",
       "      <td>4</td>\n",
       "      <td>N</td>\n",
       "      <td>138</td>\n",
       "      <td>265</td>\n",
       "      <td>2</td>\n",
       "      <td>131.00</td>\n",
       "      <td>0.0</td>\n",
       "      <td>0.5</td>\n",
       "      <td>0.00</td>\n",
       "      <td>0.00</td>\n",
       "      <td>0.3</td>\n",
       "      <td>131.80</td>\n",
       "    </tr>\n",
       "    <tr>\n",
       "      <th>1928</th>\n",
       "      <td>51087145</td>\n",
       "      <td>1</td>\n",
       "      <td>2017-06-16 18:30:08</td>\n",
       "      <td>2017-06-16 19:18:50</td>\n",
       "      <td>2</td>\n",
       "      <td>12.50</td>\n",
       "      <td>5</td>\n",
       "      <td>N</td>\n",
       "      <td>211</td>\n",
       "      <td>265</td>\n",
       "      <td>1</td>\n",
       "      <td>120.00</td>\n",
       "      <td>0.0</td>\n",
       "      <td>0.0</td>\n",
       "      <td>5.00</td>\n",
       "      <td>12.50</td>\n",
       "      <td>0.3</td>\n",
       "      <td>137.80</td>\n",
       "    </tr>\n",
       "  </tbody>\n",
       "</table>\n",
       "</div>"
      ],
      "text/plain": [
       "       Unnamed: 0 VendorID tpep_pickup_datetime tpep_dropoff_datetime  \\\n",
       "8476     11157412        1  2017-02-06 05:50:10   2017-02-06 05:51:08   \n",
       "20312   107558404        2  2017-12-19 09:40:46   2017-12-19 09:40:55   \n",
       "13861    40523668        2  2017-05-19 08:20:21   2017-05-19 09:20:30   \n",
       "15474    55538852        2  2017-06-06 20:55:01   2017-06-06 20:55:06   \n",
       "12511   107108848        2  2017-12-17 18:24:24   2017-12-17 18:24:42   \n",
       "3582    111653084        1  2017-01-01 23:53:01   2017-01-01 23:53:42   \n",
       "9280     51810714        2  2017-06-18 23:33:25   2017-06-19 00:12:38   \n",
       "16379   101198443        2  2017-11-30 10:41:11   2017-11-30 11:31:45   \n",
       "10291    76319330        2  2017-09-11 11:41:04   2017-09-11 12:18:58   \n",
       "1928     51087145        1  2017-06-16 18:30:08   2017-06-16 19:18:50   \n",
       "\n",
       "       passenger_count  trip_distance RatecodeID store_and_fwd_flag  \\\n",
       "8476                 1           2.60          5                  N   \n",
       "20312                2           0.00          5                  N   \n",
       "13861                1          33.92          5                  N   \n",
       "15474                1           0.00          5                  N   \n",
       "12511                1           0.00          5                  N   \n",
       "3582                 1           7.30          5                  N   \n",
       "9280                 2          33.96          5                  N   \n",
       "16379                1          25.50          5                  N   \n",
       "10291                1          31.95          4                  N   \n",
       "1928                 2          12.50          5                  N   \n",
       "\n",
       "       PULocationID  DOLocationID payment_type  fare_amount  extra  mta_tax  \\\n",
       "8476            226           226            1       999.99    0.0      0.0   \n",
       "20312           265           265            2       450.00    0.0      0.0   \n",
       "13861           229           265            1       200.01    0.0      0.5   \n",
       "15474           265           265            1       200.00    0.0      0.5   \n",
       "12511           265           265            1       175.00    0.0      0.0   \n",
       "3582              1             1            1       152.00    0.0      0.0   \n",
       "9280            132           265            2       150.00    0.0      0.0   \n",
       "16379           132           265            2       140.00    0.0      0.5   \n",
       "10291           138           265            2       131.00    0.0      0.5   \n",
       "1928            211           265            1       120.00    0.0      0.0   \n",
       "\n",
       "       tip_amount  tolls_amount  improvement_surcharge  total_amount  \n",
       "8476       200.00          0.00                    0.3       1200.29  \n",
       "20312        0.00          0.00                    0.3        450.30  \n",
       "13861       51.64          5.76                    0.3        258.21  \n",
       "15474       11.00          0.00                    0.3        211.80  \n",
       "12511       46.69         11.75                    0.3        233.74  \n",
       "3582         0.00          0.00                    0.3        152.30  \n",
       "9280         0.00          0.00                    0.3        150.30  \n",
       "16379        0.00         16.26                    0.3        157.06  \n",
       "10291        0.00          0.00                    0.3        131.80  \n",
       "1928         5.00         12.50                    0.3        137.80  "
      ]
     },
     "execution_count": 18,
     "metadata": {},
     "output_type": "execute_result"
    }
   ],
   "source": [
    "nyc_taxi.sort_values(by='fare_amount', ascending=False).head(10)"
   ]
  },
  {
   "cell_type": "markdown",
   "id": "004eee80-305d-463c-b0c5-c9e5f27d7c07",
   "metadata": {},
   "source": [
    "The first two records have significantly higher `fare_amount` than others. The `trip_distance` is also very low for these records."
   ]
  },
  {
   "cell_type": "markdown",
   "id": "8c8aba12-0a95-4066-b4d2-0205d59877ce",
   "metadata": {},
   "source": [
    "It is clear that the longest trips are not necessarily the most expensive ones."
   ]
  },
  {
   "cell_type": "code",
   "execution_count": 19,
   "id": "5c3854e1-4fcf-4202-bea4-25cac6043ca5",
   "metadata": {},
   "outputs": [
    {
     "data": {
      "text/plain": [
       "payment_type\n",
       "1    15265\n",
       "2     7267\n",
       "3      121\n",
       "4       46\n",
       "Name: count, dtype: int64"
      ]
     },
     "execution_count": 19,
     "metadata": {},
     "output_type": "execute_result"
    }
   ],
   "source": [
    "nyc_taxi['payment_type'].value_counts()"
   ]
  },
  {
   "cell_type": "markdown",
   "id": "fc1350f8-738c-4d35-b8e2-b75862a86b57",
   "metadata": {},
   "source": [
    "According to the data dictionary, the payment method was encoded as:\n",
    "\n",
    "1 = Credit card  \n",
    "2 = Cash  \n",
    "3 = No charge  \n",
    "4 = Dispute  \n",
    "5 = Unknown  \n",
    "6 = Voided trip"
   ]
  },
  {
   "cell_type": "code",
   "execution_count": 20,
   "id": "5a2cb69e-b972-4af1-acff-9022803bc5d2",
   "metadata": {},
   "outputs": [
    {
     "name": "stdout",
     "output_type": "stream",
     "text": [
      "Average Credit Card Tip Amount: 2.73\n",
      "Average Cash Tip Amount: 0.0\n"
     ]
    }
   ],
   "source": [
    "print(f\"Average Credit Card Tip Amount: {np.round(nyc_taxi[nyc_taxi['payment_type'] == 1]['tip_amount'].mean(), 2)}\")\n",
    "print(f\"Average Cash Tip Amount: {np.round(nyc_taxi[nyc_taxi['payment_type'] == 2]['tip_amount'].mean(), 2)}\")"
   ]
  },
  {
   "cell_type": "markdown",
   "id": "2e86ac86-814c-42ef-87af-bc27f699fc2e",
   "metadata": {},
   "source": [
    "The average tip amount for trips paid for with cash was \\\\$0. It is not surprising since the dataset doesn't contains cash tips."
   ]
  },
  {
   "cell_type": "code",
   "execution_count": 21,
   "id": "c3ff79c3-ab9b-4fa7-af87-c0666fb92e02",
   "metadata": {},
   "outputs": [
    {
     "data": {
      "text/plain": [
       "{0.0}"
      ]
     },
     "execution_count": 21,
     "metadata": {},
     "output_type": "execute_result"
    }
   ],
   "source": [
    "set(nyc_taxi[nyc_taxi['payment_type'] == 2]['tip_amount'])"
   ]
  },
  {
   "cell_type": "code",
   "execution_count": 22,
   "id": "6c9b28d7-3ee2-4a6d-a7d4-c568874044ab",
   "metadata": {},
   "outputs": [
    {
     "data": {
      "text/plain": [
       "VendorID\n",
       "2    12626\n",
       "1    10073\n",
       "Name: count, dtype: int64"
      ]
     },
     "execution_count": 22,
     "metadata": {},
     "output_type": "execute_result"
    }
   ],
   "source": [
    "nyc_taxi['VendorID'].value_counts()"
   ]
  },
  {
   "cell_type": "code",
   "execution_count": 23,
   "id": "c011e491-37e0-47c2-817b-3dcea33c0694",
   "metadata": {},
   "outputs": [
    {
     "data": {
      "text/plain": [
       "VendorID\n",
       "1    16.298119\n",
       "2    16.320382\n",
       "Name: total_amount, dtype: float64"
      ]
     },
     "execution_count": 23,
     "metadata": {},
     "output_type": "execute_result"
    }
   ],
   "source": [
    "nyc_taxi.groupby('VendorID', observed=True)['total_amount'].mean()"
   ]
  },
  {
   "cell_type": "markdown",
   "id": "22f6d96d-995f-4a80-b952-3fbaf3e45e4e",
   "metadata": {},
   "source": [
    "Vendor 2 had slightly more trips than Vendor 1. However, the average total amount for both vendors was almost same."
   ]
  },
  {
   "cell_type": "code",
   "execution_count": 24,
   "id": "27d40e66-9950-4b5b-b136-5895ecca0732",
   "metadata": {},
   "outputs": [
    {
     "data": {
      "text/plain": [
       "passenger_count\n",
       "1    10977\n",
       "2     2168\n",
       "5      775\n",
       "3      600\n",
       "6      451\n",
       "4      267\n",
       "0       27\n",
       "Name: count, dtype: int64"
      ]
     },
     "execution_count": 24,
     "metadata": {},
     "output_type": "execute_result"
    }
   ],
   "source": [
    "df_credit_card_trips = nyc_taxi[nyc_taxi['payment_type']==1]\n",
    "df_credit_card_trips['passenger_count'].value_counts()"
   ]
  },
  {
   "cell_type": "code",
   "execution_count": 25,
   "id": "db54a523-1567-4247-9e7d-d354e9fbb7cd",
   "metadata": {},
   "outputs": [],
   "source": [
    "df_credit_card_trips = df_credit_card_trips[df_credit_card_trips['passenger_count']!=0]"
   ]
  },
  {
   "cell_type": "code",
   "execution_count": 26,
   "id": "ddb7aeac-3fd9-4e76-9939-208d0160d679",
   "metadata": {},
   "outputs": [
    {
     "data": {
      "text/plain": [
       "passenger_count\n",
       "1    2.714681\n",
       "2    2.829949\n",
       "3    2.726800\n",
       "4    2.607753\n",
       "5    2.762645\n",
       "6    2.643326\n",
       "Name: tip_amount, dtype: float64"
      ]
     },
     "execution_count": 26,
     "metadata": {},
     "output_type": "execute_result"
    }
   ],
   "source": [
    "df_credit_card_trips.groupby('passenger_count')['tip_amount'].mean()"
   ]
  },
  {
   "cell_type": "markdown",
   "id": "6c23ebf2-3e25-48ab-b276-3336846299e6",
   "metadata": {},
   "source": [
    "**trip_distance**"
   ]
  },
  {
   "cell_type": "code",
   "execution_count": 27,
   "id": "d2a49400-4d9f-4cdb-8dbf-7aba917bb578",
   "metadata": {},
   "outputs": [
    {
     "data": {
      "image/png": "[encoded data removed]",
      "text/plain": [
       "<Figure size 600x300 with 1 Axes>"
      ]
     },
     "metadata": {},
     "output_type": "display_data"
    }
   ],
   "source": [
    "plt.figure(figsize=(6, 3))\n",
    "sns.boxplot(x=nyc_taxi['trip_distance'], fliersize=1)\n",
    "plt.xlabel('Trip Distance (miles)')\n",
    "plt.show()"
   ]
  },
  {
   "cell_type": "code",
   "execution_count": 28,
   "id": "7e864af8-0dc0-48ea-bb73-ed6c11d9fc9b",
   "metadata": {},
   "outputs": [
    {
     "data": {
      "image/png": "[encoded data removed]",
      "text/plain": [
       "<Figure size 800x400 with 1 Axes>"
      ]
     },
     "metadata": {},
     "output_type": "display_data"
    }
   ],
   "source": [
    "plt.figure(figsize=(8, 4))\n",
    "ax = sns.histplot(nyc_taxi['trip_distance'], bins=range(0, 26, 1))\n",
    "ax.set_xticks(range(0, 26, 1))\n",
    "ax.set_xticklabels(range(0, 26, 1))\n",
    "plt.xlabel('Trip Distance (miles)')\n",
    "plt.show()"
   ]
  },
  {
   "cell_type": "markdown",
   "id": "32e3db51-feeb-4767-bf33-347806678fe9",
   "metadata": {},
   "source": [
    "The majority of trips were less than 2 miles. Some trips were between 2 to 3 miles. However, the number of trips significantly decreases above 3 miles."
   ]
  },
  {
   "cell_type": "markdown",
   "id": "6f4a0c99-5841-4e43-9c67-178fb0f420f2",
   "metadata": {},
   "source": [
    "**total_amount**"
   ]
  },
  {
   "cell_type": "code",
   "execution_count": 29,
   "id": "7f120d02-b7d6-4088-9596-2565cfa34c35",
   "metadata": {},
   "outputs": [
    {
     "data": {
      "image/png": "[encoded data removed]",
      "text/plain": [
       "<Figure size 600x300 with 1 Axes>"
      ]
     },
     "metadata": {},
     "output_type": "display_data"
    }
   ],
   "source": [
    "plt.figure(figsize=(6, 3))\n",
    "sns.boxplot(x=nyc_taxi['total_amount'], fliersize=1)\n",
    "plt.xlabel('Total Amount (USD)')\n",
    "plt.show()"
   ]
  },
  {
   "cell_type": "code",
   "execution_count": 30,
   "id": "0121d9ae-bca0-48f9-8592-11581a297852",
   "metadata": {},
   "outputs": [
    {
     "data": {
      "image/png": "[encoded data removed]",
      "text/plain": [
       "<Figure size 800x400 with 1 Axes>"
      ]
     },
     "metadata": {},
     "output_type": "display_data"
    }
   ],
   "source": [
    "plt.figure(figsize=(8, 4))\n",
    "ax = sns.histplot(nyc_taxi['total_amount'], bins=range(0, 101, 5))\n",
    "ax.set_xticks(range(0, 101, 5))\n",
    "ax.set_xticklabels(range(0, 101, 5))\n",
    "plt.xlabel('Total Amount (USD)')\n",
    "plt.show()"
   ]
  },
  {
   "cell_type": "markdown",
   "id": "0f09e137-75b0-4071-b702-d36a00c23f53",
   "metadata": {},
   "source": [
    "Most of the trips had a total fare between \\\\$5 to \\\\$15."
   ]
  },
  {
   "cell_type": "markdown",
   "id": "65ed5032-6d14-47d0-b169-e933847b7d72",
   "metadata": {},
   "source": [
    "**tip_amount**"
   ]
  },
  {
   "cell_type": "code",
   "execution_count": 31,
   "id": "39eb58a8-0369-4923-a3d4-5bfbd1745aa4",
   "metadata": {},
   "outputs": [
    {
     "data": {
      "image/png": "[encoded data removed]",
      "text/plain": [
       "<Figure size 600x300 with 1 Axes>"
      ]
     },
     "metadata": {},
     "output_type": "display_data"
    }
   ],
   "source": [
    "plt.figure(figsize=(6, 3))\n",
    "sns.boxplot(x=nyc_taxi['tip_amount'], fliersize=1)\n",
    "plt.xlabel('Tip Amount (USD)')\n",
    "plt.show()"
   ]
  },
  {
   "cell_type": "code",
   "execution_count": 32,
   "id": "ccf0d8f8-4375-422d-9d60-b4e3793be35a",
   "metadata": {},
   "outputs": [
    {
     "data": {
      "image/png": "[encoded data removed]",
      "text/plain": [
       "<Figure size 600x400 with 1 Axes>"
      ]
     },
     "metadata": {},
     "output_type": "display_data"
    }
   ],
   "source": [
    "plt.figure(figsize=(6, 4))\n",
    "sns.histplot(nyc_taxi['tip_amount'], bins=range(0, 26, 3))\n",
    "plt.xticks(range(0, 26, 3))\n",
    "plt.xlabel('Tip Amount (USD)')\n",
    "plt.show()"
   ]
  },
  {
   "cell_type": "markdown",
   "id": "6ca88df2-e8fa-4238-a30b-aa06b7b042fb",
   "metadata": {},
   "source": [
    "The distribution of tip amounts is right skewed with most tips between 0 to 3 USD."
   ]
  },
  {
   "cell_type": "markdown",
   "id": "c2d2bbe4-1d5c-44e9-9292-a025772e39c6",
   "metadata": {},
   "source": [
    "**tip_amount by vendor**"
   ]
  },
  {
   "cell_type": "code",
   "execution_count": 33,
   "id": "2bca0de7-de8e-46ca-acae-c6a51db7a4a0",
   "metadata": {},
   "outputs": [
    {
     "data": {
      "image/png": "[encoded data removed]",
      "text/plain": [
       "<Figure size 1000x400 with 1 Axes>"
      ]
     },
     "metadata": {},
     "output_type": "display_data"
    }
   ],
   "source": [
    "plt.figure(figsize=(10, 4))\n",
    "ax = sns.histplot(x=nyc_taxi['tip_amount'], hue=nyc_taxi['VendorID'], bins=range(0, 26, 1), multiple='stack', palette='pastel')\n",
    "ax.set_xticks(range(0, 26, 1))\n",
    "ax.set_xticklabels(range(0, 26, 1))\n",
    "plt.title('Distribution of Tip Amounts by Vendor', pad=8)\n",
    "plt.xlabel('Tip Amount (USD)')\n",
    "plt.show()"
   ]
  },
  {
   "cell_type": "markdown",
   "id": "6b079c6e-8ca2-4c1b-8c1b-adae0cd6900f",
   "metadata": {},
   "source": [
    "There is no noticable difference in the distribution of tip amounts between the two vendors. Vendor 2 has slightly higher number of trips than Vendor 1 and this proprotions is nearly maintained for all tip amounts."
   ]
  },
  {
   "cell_type": "code",
   "execution_count": 34,
   "id": "3c6f954c-9a6d-464d-93ac-8dd9d12d440c",
   "metadata": {},
   "outputs": [
    {
     "data": {
      "image/png": "[encoded data removed]",
      "text/plain": [
       "<Figure size 1000x600 with 1 Axes>"
      ]
     },
     "metadata": {},
     "output_type": "display_data"
    }
   ],
   "source": [
    "plt.figure(figsize=(10, 6))\n",
    "ax = sns.histplot(x=nyc_taxi['tip_amount'], hue=nyc_taxi['VendorID'], bins=range(10, 21, 1), multiple='stack', palette='pastel')\n",
    "ax.set_xticks(range(10, 21, 1))\n",
    "ax.set_xticklabels(range(10, 21, 1))\n",
    "plt.title(r'Distribution of Tip Amounts (\\$10-\\$20) by Vendor', pad=8)\n",
    "plt.xlabel('Tip Amount (USD)')\n",
    "plt.show()"
   ]
  },
  {
   "cell_type": "markdown",
   "id": "b2adcf6d-8d08-446f-a6ac-8b3974c8862a",
   "metadata": {},
   "source": [
    "The proportions are maintained almost evenly except at extreme high values which is not of much importance due to the very low sample size for these amounts."
   ]
  },
  {
   "cell_type": "markdown",
   "id": "da25468e-6493-4bd7-a793-36071dc56982",
   "metadata": {},
   "source": [
    "**Mean tips by passenger count**"
   ]
  },
  {
   "cell_type": "code",
   "execution_count": 35,
   "id": "c9ba9c04-7b00-42dc-92f9-e00fce330c5c",
   "metadata": {},
   "outputs": [
    {
     "data": {
      "text/plain": [
       "array([6, 1, 2, 4, 5, 3, 0])"
      ]
     },
     "execution_count": 35,
     "metadata": {},
     "output_type": "execute_result"
    }
   ],
   "source": [
    "nyc_taxi['passenger_count'].unique()"
   ]
  },
  {
   "cell_type": "code",
   "execution_count": 36,
   "id": "e24f9756-e0e4-4ffa-a44b-54aaae1062af",
   "metadata": {},
   "outputs": [
    {
     "data": {
      "text/html": [
       "<div>\n",
       "<style scoped>\n",
       "    .dataframe tbody tr th:only-of-type {\n",
       "        vertical-align: middle;\n",
       "    }\n",
       "\n",
       "    .dataframe tbody tr th {\n",
       "        vertical-align: top;\n",
       "    }\n",
       "\n",
       "    .dataframe thead th {\n",
       "        text-align: right;\n",
       "    }\n",
       "</style>\n",
       "<table border=\"1\" class=\"dataframe\">\n",
       "  <thead>\n",
       "    <tr style=\"text-align: right;\">\n",
       "      <th></th>\n",
       "      <th>passenger_count</th>\n",
       "      <th>trips</th>\n",
       "    </tr>\n",
       "  </thead>\n",
       "  <tbody>\n",
       "    <tr>\n",
       "      <th>0</th>\n",
       "      <td>1</td>\n",
       "      <td>16117</td>\n",
       "    </tr>\n",
       "    <tr>\n",
       "      <th>1</th>\n",
       "      <td>2</td>\n",
       "      <td>3305</td>\n",
       "    </tr>\n",
       "    <tr>\n",
       "      <th>2</th>\n",
       "      <td>5</td>\n",
       "      <td>1143</td>\n",
       "    </tr>\n",
       "    <tr>\n",
       "      <th>3</th>\n",
       "      <td>3</td>\n",
       "      <td>953</td>\n",
       "    </tr>\n",
       "    <tr>\n",
       "      <th>4</th>\n",
       "      <td>6</td>\n",
       "      <td>693</td>\n",
       "    </tr>\n",
       "    <tr>\n",
       "      <th>5</th>\n",
       "      <td>4</td>\n",
       "      <td>455</td>\n",
       "    </tr>\n",
       "    <tr>\n",
       "      <th>6</th>\n",
       "      <td>0</td>\n",
       "      <td>33</td>\n",
       "    </tr>\n",
       "  </tbody>\n",
       "</table>\n",
       "</div>"
      ],
      "text/plain": [
       "   passenger_count  trips\n",
       "0                1  16117\n",
       "1                2   3305\n",
       "2                5   1143\n",
       "3                3    953\n",
       "4                6    693\n",
       "5                4    455\n",
       "6                0     33"
      ]
     },
     "execution_count": 36,
     "metadata": {},
     "output_type": "execute_result"
    }
   ],
   "source": [
    "nyc_taxi['passenger_count'].value_counts().reset_index(name='trips')"
   ]
  },
  {
   "cell_type": "code",
   "execution_count": 37,
   "id": "77dba3e4-c8d0-47f7-a5fc-e73d468567e4",
   "metadata": {},
   "outputs": [
    {
     "data": {
      "text/html": [
       "<div>\n",
       "<style scoped>\n",
       "    .dataframe tbody tr th:only-of-type {\n",
       "        vertical-align: middle;\n",
       "    }\n",
       "\n",
       "    .dataframe tbody tr th {\n",
       "        vertical-align: top;\n",
       "    }\n",
       "\n",
       "    .dataframe thead th {\n",
       "        text-align: right;\n",
       "    }\n",
       "</style>\n",
       "<table border=\"1\" class=\"dataframe\">\n",
       "  <thead>\n",
       "    <tr style=\"text-align: right;\">\n",
       "      <th></th>\n",
       "      <th>passenger_count</th>\n",
       "      <th>Mean Tip Amount</th>\n",
       "    </tr>\n",
       "  </thead>\n",
       "  <tbody>\n",
       "    <tr>\n",
       "      <th>0</th>\n",
       "      <td>0</td>\n",
       "      <td>2.135758</td>\n",
       "    </tr>\n",
       "    <tr>\n",
       "      <th>1</th>\n",
       "      <td>1</td>\n",
       "      <td>1.848920</td>\n",
       "    </tr>\n",
       "    <tr>\n",
       "      <th>2</th>\n",
       "      <td>2</td>\n",
       "      <td>1.856378</td>\n",
       "    </tr>\n",
       "    <tr>\n",
       "      <th>3</th>\n",
       "      <td>3</td>\n",
       "      <td>1.716768</td>\n",
       "    </tr>\n",
       "    <tr>\n",
       "      <th>4</th>\n",
       "      <td>4</td>\n",
       "      <td>1.530264</td>\n",
       "    </tr>\n",
       "    <tr>\n",
       "      <th>5</th>\n",
       "      <td>5</td>\n",
       "      <td>1.873185</td>\n",
       "    </tr>\n",
       "    <tr>\n",
       "      <th>6</th>\n",
       "      <td>6</td>\n",
       "      <td>1.720260</td>\n",
       "    </tr>\n",
       "  </tbody>\n",
       "</table>\n",
       "</div>"
      ],
      "text/plain": [
       "   passenger_count  Mean Tip Amount\n",
       "0                0         2.135758\n",
       "1                1         1.848920\n",
       "2                2         1.856378\n",
       "3                3         1.716768\n",
       "4                4         1.530264\n",
       "5                5         1.873185\n",
       "6                6         1.720260"
      ]
     },
     "execution_count": 37,
     "metadata": {},
     "output_type": "execute_result"
    }
   ],
   "source": [
    "mean_tip_by_passenger_count = nyc_taxi.groupby(['passenger_count'])['tip_amount'].mean()\n",
    "mean_tip_by_passenger_count.reset_index(name='Mean Tip Amount')"
   ]
  },
  {
   "cell_type": "code",
   "execution_count": 38,
   "id": "a4b3342c-12f4-4ac4-be32-e00a1c6f946b",
   "metadata": {},
   "outputs": [],
   "source": [
    "mean_tip_by_passenger_count = mean_tip_by_passenger_count[1:]"
   ]
  },
  {
   "cell_type": "code",
   "execution_count": 39,
   "id": "995ec1f4-57ff-466d-9e57-b993657c017f",
   "metadata": {},
   "outputs": [
    {
     "data": {
      "image/png": "[encoded data removed]",
      "text/plain": [
       "<Figure size 1200x600 with 1 Axes>"
      ]
     },
     "metadata": {},
     "output_type": "display_data"
    }
   ],
   "source": [
    "plt.figure(figsize=(12, 6))\n",
    "\n",
    "rank = mean_tip_by_passenger_count.argsort().argsort()\n",
    "pal = sns.color_palette(\"Blues_d\", len(mean_tip_by_passenger_count))\n",
    "ax = sns.barplot(x=mean_tip_by_passenger_count.index, y=mean_tip_by_passenger_count, \n",
    "                 hue=mean_tip_by_passenger_count.index, palette=list(np.array(pal[::-1])[rank]))\n",
    "line = ax.axhline(nyc_taxi['tip_amount'].mean(), ls='--', color='red', label='Global Mean')\n",
    "ax.legend_.remove()\n",
    "ax.legend(handles=[line])\n",
    "\n",
    "plt.title('Tip Amount based on the Number of Passengers', pad=10)\n",
    "plt.xlabel('Passenger Count', labelpad=8)\n",
    "plt.ylabel('Tip Amount (USD)', labelpad=8)\n",
    "plt.show()"
   ]
  },
  {
   "cell_type": "markdown",
   "id": "bf57a426-75c4-414c-b2cb-4a508b7a3982",
   "metadata": {},
   "source": [
    "The average tip amount varies little by passenger counts. Although there is a noticeable difference for trips with 4 passengers, these trips are very infrequent."
   ]
  },
  {
   "cell_type": "code",
   "execution_count": 40,
   "id": "26a8b4b4-c4f8-4fdf-8705-5406882368e8",
   "metadata": {},
   "outputs": [],
   "source": [
    "nyc_taxi['month'] = nyc_taxi['tpep_pickup_datetime'].dt.month_name()\n",
    "nyc_taxi['day'] = nyc_taxi['tpep_pickup_datetime'].dt.day_name()"
   ]
  },
  {
   "cell_type": "code",
   "execution_count": 41,
   "id": "a0256b5b-d778-4058-964a-f7a4dd6aa7dd",
   "metadata": {},
   "outputs": [
    {
     "data": {
      "text/html": [
       "<div>\n",
       "<style scoped>\n",
       "    .dataframe tbody tr th:only-of-type {\n",
       "        vertical-align: middle;\n",
       "    }\n",
       "\n",
       "    .dataframe tbody tr th {\n",
       "        vertical-align: top;\n",
       "    }\n",
       "\n",
       "    .dataframe thead th {\n",
       "        text-align: right;\n",
       "    }\n",
       "</style>\n",
       "<table border=\"1\" class=\"dataframe\">\n",
       "  <thead>\n",
       "    <tr style=\"text-align: right;\">\n",
       "      <th></th>\n",
       "      <th>Unnamed: 0</th>\n",
       "      <th>VendorID</th>\n",
       "      <th>tpep_pickup_datetime</th>\n",
       "      <th>tpep_dropoff_datetime</th>\n",
       "      <th>passenger_count</th>\n",
       "      <th>trip_distance</th>\n",
       "      <th>RatecodeID</th>\n",
       "      <th>store_and_fwd_flag</th>\n",
       "      <th>PULocationID</th>\n",
       "      <th>DOLocationID</th>\n",
       "      <th>payment_type</th>\n",
       "      <th>fare_amount</th>\n",
       "      <th>extra</th>\n",
       "      <th>mta_tax</th>\n",
       "      <th>tip_amount</th>\n",
       "      <th>tolls_amount</th>\n",
       "      <th>improvement_surcharge</th>\n",
       "      <th>total_amount</th>\n",
       "      <th>month</th>\n",
       "      <th>day</th>\n",
       "    </tr>\n",
       "  </thead>\n",
       "  <tbody>\n",
       "    <tr>\n",
       "      <th>0</th>\n",
       "      <td>24870114</td>\n",
       "      <td>2</td>\n",
       "      <td>2017-03-25 08:55:43</td>\n",
       "      <td>2017-03-25 09:09:47</td>\n",
       "      <td>6</td>\n",
       "      <td>3.34</td>\n",
       "      <td>1</td>\n",
       "      <td>N</td>\n",
       "      <td>100</td>\n",
       "      <td>231</td>\n",
       "      <td>1</td>\n",
       "      <td>13.0</td>\n",
       "      <td>0.0</td>\n",
       "      <td>0.5</td>\n",
       "      <td>2.76</td>\n",
       "      <td>0.0</td>\n",
       "      <td>0.3</td>\n",
       "      <td>16.56</td>\n",
       "      <td>March</td>\n",
       "      <td>Saturday</td>\n",
       "    </tr>\n",
       "    <tr>\n",
       "      <th>1</th>\n",
       "      <td>35634249</td>\n",
       "      <td>1</td>\n",
       "      <td>2017-04-11 14:53:28</td>\n",
       "      <td>2017-04-11 15:19:58</td>\n",
       "      <td>1</td>\n",
       "      <td>1.80</td>\n",
       "      <td>1</td>\n",
       "      <td>N</td>\n",
       "      <td>186</td>\n",
       "      <td>43</td>\n",
       "      <td>1</td>\n",
       "      <td>16.0</td>\n",
       "      <td>0.0</td>\n",
       "      <td>0.5</td>\n",
       "      <td>4.00</td>\n",
       "      <td>0.0</td>\n",
       "      <td>0.3</td>\n",
       "      <td>20.80</td>\n",
       "      <td>April</td>\n",
       "      <td>Tuesday</td>\n",
       "    </tr>\n",
       "    <tr>\n",
       "      <th>2</th>\n",
       "      <td>106203690</td>\n",
       "      <td>1</td>\n",
       "      <td>2017-12-15 07:26:56</td>\n",
       "      <td>2017-12-15 07:34:08</td>\n",
       "      <td>1</td>\n",
       "      <td>1.00</td>\n",
       "      <td>1</td>\n",
       "      <td>N</td>\n",
       "      <td>262</td>\n",
       "      <td>236</td>\n",
       "      <td>1</td>\n",
       "      <td>6.5</td>\n",
       "      <td>0.0</td>\n",
       "      <td>0.5</td>\n",
       "      <td>1.45</td>\n",
       "      <td>0.0</td>\n",
       "      <td>0.3</td>\n",
       "      <td>8.75</td>\n",
       "      <td>December</td>\n",
       "      <td>Friday</td>\n",
       "    </tr>\n",
       "  </tbody>\n",
       "</table>\n",
       "</div>"
      ],
      "text/plain": [
       "   Unnamed: 0 VendorID tpep_pickup_datetime tpep_dropoff_datetime  \\\n",
       "0    24870114        2  2017-03-25 08:55:43   2017-03-25 09:09:47   \n",
       "1    35634249        1  2017-04-11 14:53:28   2017-04-11 15:19:58   \n",
       "2   106203690        1  2017-12-15 07:26:56   2017-12-15 07:34:08   \n",
       "\n",
       "   passenger_count  trip_distance RatecodeID store_and_fwd_flag  PULocationID  \\\n",
       "0                6           3.34          1                  N           100   \n",
       "1                1           1.80          1                  N           186   \n",
       "2                1           1.00          1                  N           262   \n",
       "\n",
       "   DOLocationID payment_type  fare_amount  extra  mta_tax  tip_amount  \\\n",
       "0           231            1         13.0    0.0      0.5        2.76   \n",
       "1            43            1         16.0    0.0      0.5        4.00   \n",
       "2           236            1          6.5    0.0      0.5        1.45   \n",
       "\n",
       "   tolls_amount  improvement_surcharge  total_amount     month       day  \n",
       "0           0.0                    0.3         16.56     March  Saturday  \n",
       "1           0.0                    0.3         20.80     April   Tuesday  \n",
       "2           0.0                    0.3          8.75  December    Friday  "
      ]
     },
     "execution_count": 41,
     "metadata": {},
     "output_type": "execute_result"
    }
   ],
   "source": [
    "nyc_taxi.head(3)"
   ]
  },
  {
   "cell_type": "markdown",
   "id": "8e8926c1-e4fa-4dda-90ec-11eb462864bf",
   "metadata": {},
   "source": [
    "**Monthly Trips Count**"
   ]
  },
  {
   "cell_type": "code",
   "execution_count": 42,
   "id": "1e1b52a0-bf8b-4fc4-9c4e-9bfd5903f02a",
   "metadata": {},
   "outputs": [
    {
     "data": {
      "text/plain": [
       "month\n",
       "March        2049\n",
       "October      2027\n",
       "April        2019\n",
       "May          2013\n",
       "January      1997\n",
       "June         1964\n",
       "December     1863\n",
       "November     1843\n",
       "February     1769\n",
       "September    1734\n",
       "August       1724\n",
       "July         1697\n",
       "Name: count, dtype: int64"
      ]
     },
     "execution_count": 42,
     "metadata": {},
     "output_type": "execute_result"
    }
   ],
   "source": [
    "monthly_trips = nyc_taxi['month'].value_counts()\n",
    "monthly_trips "
   ]
  },
  {
   "cell_type": "code",
   "execution_count": 43,
   "id": "3250379f-aa42-4f76-84e7-1b61f13cbba8",
   "metadata": {},
   "outputs": [],
   "source": [
    "calendar_months = ['January', 'February', 'March', 'April', 'May', 'June', 'July', 'August', 'September', 'October', 'November', 'December']"
   ]
  },
  {
   "cell_type": "code",
   "execution_count": 44,
   "id": "f6a15d33-ad50-4d76-9a08-ce95e0793217",
   "metadata": {},
   "outputs": [
    {
     "data": {
      "text/plain": [
       "month\n",
       "January      1997\n",
       "February     1769\n",
       "March        2049\n",
       "April        2019\n",
       "May          2013\n",
       "June         1964\n",
       "July         1697\n",
       "August       1724\n",
       "September    1734\n",
       "October      2027\n",
       "November     1843\n",
       "December     1863\n",
       "Name: count, dtype: int64"
      ]
     },
     "execution_count": 44,
     "metadata": {},
     "output_type": "execute_result"
    }
   ],
   "source": [
    "monthly_trips = monthly_trips.reindex(index=calendar_months)\n",
    "monthly_trips "
   ]
  },
  {
   "cell_type": "code",
   "execution_count": 45,
   "id": "6f7557c4-29b4-4d39-9394-d6d4091bbb9c",
   "metadata": {},
   "outputs": [
    {
     "data": {
      "image/png": "[encoded data removed]",
      "text/plain": [
       "<Figure size 1200x600 with 1 Axes>"
      ]
     },
     "metadata": {},
     "output_type": "display_data"
    }
   ],
   "source": [
    "plt.figure(figsize=(12, 6))\n",
    "ax = sns.barplot(x=monthly_trips.index, y=monthly_trips, hue=monthly_trips.index)\n",
    "ax.axhline(monthly_trips.mean(), ls='--', color='black', label='Mean')\n",
    "ax.legend()\n",
    "\n",
    "plt.title('Monthly Trips Count', fontsize=14, pad=10)\n",
    "plt.xlabel('')\n",
    "plt.ylabel('# Trips', labelpad=8)\n",
    "plt.show()"
   ]
  },
  {
   "cell_type": "markdown",
   "id": "22965f36-af63-455e-acdb-cae51f85e23b",
   "metadata": {},
   "source": [
    "Monthly trips are fairly consistent with noticable dips in the months of July, August, September, and February."
   ]
  },
  {
   "cell_type": "markdown",
   "id": "21e9383a-1232-4640-96cd-68123cf17faa",
   "metadata": {},
   "source": [
    "**Trips Count by Day**"
   ]
  },
  {
   "cell_type": "code",
   "execution_count": 46,
   "id": "f95d63c7-f7f9-4cb6-a8df-7f9772f26bc4",
   "metadata": {},
   "outputs": [
    {
     "data": {
      "text/plain": [
       "day\n",
       "Monday       2931\n",
       "Tuesday      3198\n",
       "Wednesday    3390\n",
       "Thursday     3402\n",
       "Friday       3413\n",
       "Saturday     3367\n",
       "Sunday       2998\n",
       "Name: count, dtype: int64"
      ]
     },
     "execution_count": 46,
     "metadata": {},
     "output_type": "execute_result"
    }
   ],
   "source": [
    "days_order = ['Monday', 'Tuesday', 'Wednesday', 'Thursday', 'Friday', 'Saturday', 'Sunday']\n",
    "daily_trips = nyc_taxi['day'].value_counts().reindex(index=days_order)\n",
    "daily_trips"
   ]
  },
  {
   "cell_type": "code",
   "execution_count": 47,
   "id": "e8353375-e563-435a-9b2f-f5a8215169a9",
   "metadata": {},
   "outputs": [
    {
     "data": {
      "image/png": "[encoded data removed]",
      "text/plain": [
       "<Figure size 1000x600 with 1 Axes>"
      ]
     },
     "metadata": {},
     "output_type": "display_data"
    }
   ],
   "source": [
    "plt.figure(figsize=(10, 6))\n",
    "ax = sns.barplot(x=daily_trips.index, y=daily_trips, hue=daily_trips.index)\n",
    "ax.axhline(daily_trips.mean(), ls='--', color='black', label='Mean')\n",
    "ax.legend()\n",
    "\n",
    "plt.title('Trips Count by Day', fontsize=14, pad=10)\n",
    "plt.xlabel('')\n",
    "plt.ylabel('# Trips', labelpad=8)\n",
    "plt.show()"
   ]
  },
  {
   "cell_type": "markdown",
   "id": "f7fd6fa3-2abe-4efc-954c-3f4aad7124c1",
   "metadata": {},
   "source": [
    "Surpisingly, the number of trips were highest from Wednesday to Saturday, while Sunday and Monday had the lowest trips."
   ]
  },
  {
   "cell_type": "markdown",
   "id": "85aec658-9888-441f-a517-a1c98fab3380",
   "metadata": {},
   "source": [
    "**Revenue by Day of Week**"
   ]
  },
  {
   "cell_type": "code",
   "execution_count": 48,
   "id": "37a565a5-c4c3-4429-845b-c36e4fc62055",
   "metadata": {},
   "outputs": [
    {
     "data": {
      "text/plain": [
       "day\n",
       "Monday       49574.37\n",
       "Tuesday      52527.14\n",
       "Wednesday    55310.47\n",
       "Thursday     57181.91\n",
       "Friday       55818.74\n",
       "Saturday     51195.40\n",
       "Sunday       48624.06\n",
       "Name: total_amount, dtype: float64"
      ]
     },
     "execution_count": 48,
     "metadata": {},
     "output_type": "execute_result"
    }
   ],
   "source": [
    "daily_revenue = nyc_taxi.groupby('day')['total_amount'].sum().reindex(index=days_order)\n",
    "daily_revenue"
   ]
  },
  {
   "cell_type": "code",
   "execution_count": 49,
   "id": "355a7293-5ff4-4f1e-a1f5-b3fa8f56053a",
   "metadata": {},
   "outputs": [
    {
     "data": {
      "image/png": "[encoded data removed]",
      "text/plain": [
       "<Figure size 1000x600 with 1 Axes>"
      ]
     },
     "metadata": {},
     "output_type": "display_data"
    }
   ],
   "source": [
    "plt.figure(figsize=(10, 6))\n",
    "ax = sns.barplot(x=daily_revenue.index, y=daily_revenue, hue=daily_revenue.index)\n",
    "ax.axhline(daily_revenue.mean(), ls='--', color='black', label='Mean Revenue')\n",
    "ax.annotate(f\"Daily Average: ${ReadableNumber(int(np.round(daily_revenue.mean(), 0)))}\", xy=(4.75, daily_revenue.mean()+1500))\n",
    "\n",
    "plt.title('Total Revenue by Day', fontsize=14, pad=10)\n",
    "plt.xlabel('')\n",
    "plt.ylabel('Revenue (USD)', labelpad=8)\n",
    "plt.show()"
   ]
  },
  {
   "cell_type": "markdown",
   "id": "c585507b-bba2-4345-9812-46ff7a6c2e4b",
   "metadata": {},
   "source": [
    "Thursday had the highest gross revenue of all days, while Sunday and Monday had the least. <br>\n",
    "Interestingly, although Saturday had only 35 fewer rides than Thursday, the gross revenue was ~$6,000 less than that of Thursday &mdash; which is more than 10% drop."
   ]
  },
  {
   "cell_type": "markdown",
   "id": "9f83c3dc-55fb-4182-a844-392ba7c59511",
   "metadata": {},
   "source": [
    "**Monthly Revenue**"
   ]
  },
  {
   "cell_type": "code",
   "execution_count": 50,
   "id": "2b691475-a3fe-4dc0-b66b-d24d835d3340",
   "metadata": {},
   "outputs": [
    {
     "data": {
      "text/plain": [
       "month\n",
       "January      31735.25\n",
       "February     28937.89\n",
       "March        33085.89\n",
       "April        32012.54\n",
       "May          33828.58\n",
       "June         32920.52\n",
       "July         26617.64\n",
       "August       27759.56\n",
       "September    28206.38\n",
       "October      33065.83\n",
       "November     30800.44\n",
       "December     31261.57\n",
       "Name: total_amount, dtype: float64"
      ]
     },
     "execution_count": 50,
     "metadata": {},
     "output_type": "execute_result"
    }
   ],
   "source": [
    "monthly_revenue = nyc_taxi.groupby('month')['total_amount'].sum().reindex(index=calendar_months)\n",
    "monthly_revenue"
   ]
  },
  {
   "cell_type": "code",
   "execution_count": 51,
   "id": "8b0717ca-7eee-465f-99e4-911a163025ea",
   "metadata": {},
   "outputs": [
    {
     "data": {
      "image/png": "[encoded data removed]",
      "text/plain": [
       "<Figure size 1200x700 with 1 Axes>"
      ]
     },
     "metadata": {},
     "output_type": "display_data"
    }
   ],
   "source": [
    "plt.figure(figsize=(12, 7))\n",
    "ax = sns.barplot(x=monthly_revenue.index, y=monthly_revenue, hue=monthly_revenue.index)\n",
    "ax.axhline(monthly_revenue.mean(), ls='--', color='black', label='Monthly mean')\n",
    "ax.annotate(f\"Monthly Average: ${ReadableNumber(int(np.round(monthly_revenue.mean(), 0)))}\", xy=(6, monthly_revenue.mean()+750))\n",
    "\n",
    "plt.title('Monthly Gross Revenue', fontsize=14, pad=10)\n",
    "plt.xlabel('')\n",
    "plt.ylabel('Revenue (USD)', labelpad=8)\n",
    "plt.show()"
   ]
  },
  {
   "cell_type": "markdown",
   "id": "24a6e0be-6e17-484a-85cb-5bb8716680e4",
   "metadata": {},
   "source": [
    "Monthly revenue follows the same distribution as monthly rides with noticable dips in July, August, September and also in February."
   ]
  },
  {
   "cell_type": "markdown",
   "id": "b6bc41af-0b7f-4a5f-96d5-2743500a6a08",
   "metadata": {},
   "source": [
    "**Trip Distance by Dropoff Location**"
   ]
  },
  {
   "cell_type": "code",
   "execution_count": 52,
   "id": "fffcabbe-9df0-4595-8ed7-35738a253aad",
   "metadata": {},
   "outputs": [
    {
     "data": {
      "text/plain": [
       "216"
      ]
     },
     "execution_count": 52,
     "metadata": {},
     "output_type": "execute_result"
    }
   ],
   "source": [
    "nyc_taxi['DOLocationID'].nunique()"
   ]
  },
  {
   "cell_type": "code",
   "execution_count": 53,
   "id": "7543f43f-e498-4f03-9049-2d296e012f1f",
   "metadata": {},
   "outputs": [
    {
     "data": {
      "text/html": [
       "<div>\n",
       "<style scoped>\n",
       "    .dataframe tbody tr th:only-of-type {\n",
       "        vertical-align: middle;\n",
       "    }\n",
       "\n",
       "    .dataframe tbody tr th {\n",
       "        vertical-align: top;\n",
       "    }\n",
       "\n",
       "    .dataframe thead th {\n",
       "        text-align: right;\n",
       "    }\n",
       "</style>\n",
       "<table border=\"1\" class=\"dataframe\">\n",
       "  <thead>\n",
       "    <tr style=\"text-align: right;\">\n",
       "      <th></th>\n",
       "      <th>DOLocationID</th>\n",
       "      <th>mean_distance</th>\n",
       "      <th>DOLocationID_str</th>\n",
       "    </tr>\n",
       "  </thead>\n",
       "  <tbody>\n",
       "    <tr>\n",
       "      <th>0</th>\n",
       "      <td>207</td>\n",
       "      <td>1.200000</td>\n",
       "      <td>207</td>\n",
       "    </tr>\n",
       "    <tr>\n",
       "      <th>1</th>\n",
       "      <td>193</td>\n",
       "      <td>1.390556</td>\n",
       "      <td>193</td>\n",
       "    </tr>\n",
       "    <tr>\n",
       "      <th>2</th>\n",
       "      <td>237</td>\n",
       "      <td>1.555494</td>\n",
       "      <td>237</td>\n",
       "    </tr>\n",
       "    <tr>\n",
       "      <th>3</th>\n",
       "      <td>234</td>\n",
       "      <td>1.727806</td>\n",
       "      <td>234</td>\n",
       "    </tr>\n",
       "    <tr>\n",
       "      <th>4</th>\n",
       "      <td>137</td>\n",
       "      <td>1.818852</td>\n",
       "      <td>137</td>\n",
       "    </tr>\n",
       "    <tr>\n",
       "      <th>...</th>\n",
       "      <td>...</td>\n",
       "      <td>...</td>\n",
       "      <td>...</td>\n",
       "    </tr>\n",
       "    <tr>\n",
       "      <th>211</th>\n",
       "      <td>51</td>\n",
       "      <td>17.310000</td>\n",
       "      <td>51</td>\n",
       "    </tr>\n",
       "    <tr>\n",
       "      <th>212</th>\n",
       "      <td>11</td>\n",
       "      <td>17.945000</td>\n",
       "      <td>11</td>\n",
       "    </tr>\n",
       "    <tr>\n",
       "      <th>213</th>\n",
       "      <td>210</td>\n",
       "      <td>20.500000</td>\n",
       "      <td>210</td>\n",
       "    </tr>\n",
       "    <tr>\n",
       "      <th>214</th>\n",
       "      <td>29</td>\n",
       "      <td>21.650000</td>\n",
       "      <td>29</td>\n",
       "    </tr>\n",
       "    <tr>\n",
       "      <th>215</th>\n",
       "      <td>23</td>\n",
       "      <td>24.275000</td>\n",
       "      <td>23</td>\n",
       "    </tr>\n",
       "  </tbody>\n",
       "</table>\n",
       "<p>216 rows × 3 columns</p>\n",
       "</div>"
      ],
      "text/plain": [
       "     DOLocationID  mean_distance DOLocationID_str\n",
       "0             207       1.200000              207\n",
       "1             193       1.390556              193\n",
       "2             237       1.555494              237\n",
       "3             234       1.727806              234\n",
       "4             137       1.818852              137\n",
       "..            ...            ...              ...\n",
       "211            51      17.310000               51\n",
       "212            11      17.945000               11\n",
       "213           210      20.500000              210\n",
       "214            29      21.650000               29\n",
       "215            23      24.275000               23\n",
       "\n",
       "[216 rows x 3 columns]"
      ]
     },
     "execution_count": 53,
     "metadata": {},
     "output_type": "execute_result"
    }
   ],
   "source": [
    "mean_distance_by_DO = nyc_taxi.groupby('DOLocationID')['trip_distance'].mean().sort_values().reset_index(name='mean_distance')\n",
    "mean_distance_by_DO['DOLocationID_str'] = mean_distance_by_DO['DOLocationID'].map(str)\n",
    "mean_distance_by_DO"
   ]
  },
  {
   "cell_type": "code",
   "execution_count": 54,
   "id": "9bc614de-d9ee-4365-9b4b-8632a89012f2",
   "metadata": {},
   "outputs": [
    {
     "data": {
      "image/png": "[encoded data removed]",
      "text/plain": [
       "<Figure size 1200x400 with 1 Axes>"
      ]
     },
     "metadata": {},
     "output_type": "display_data"
    }
   ],
   "source": [
    "plt.figure(figsize=(12, 4))\n",
    "pal = sns.color_palette(\"husl\", mean_distance_by_DO['DOLocationID'].count())\n",
    "\n",
    "ax = sns.barplot(x='DOLocationID_str', y='mean_distance', data=mean_distance_by_DO, \n",
    "                 order=mean_distance_by_DO['DOLocationID_str'], \n",
    "                 hue=mean_distance_by_DO['DOLocationID_str'], \n",
    "                 palette=pal, legend=False)\n",
    "ax.set_xticklabels([])\n",
    "ax.set_xticks([])\n",
    "\n",
    "plt.title('Mean Trip Distance by Dropoff Location Zone', pad=10)\n",
    "plt.xlabel('Dropoff Location ID', labelpad=8)\n",
    "plt.ylabel('Mean Trip Distance (miles)', labelpad=8)\n",
    "plt.show()"
   ]
  },
  {
   "cell_type": "markdown",
   "id": "02397d27-7d54-4c36-8eb9-1bdbf773ba9f",
   "metadata": {},
   "source": [
    "This plot shows a characteristic curve that resembles the cumulative density function of a normal distribution.\n",
    "It indicates that drop-off locations are fairly spread out across the area. \n",
    "Since geographic coordinates are not included in the dataset, this plot helps infer the distribution indirectly."
   ]
  },
  {
   "cell_type": "markdown",
   "id": "c679e785-e423-49d2-9622-42b1ba2af77b",
   "metadata": {},
   "source": [
    "To confirm this conclusion, consider the following experiment:\n",
    "1. Create a sample of coordinates from a normal distribution&mdash;in this case 1,500 pairs of points from a normal distribution with a mean of 10 and a standard deviation of 5\n",
    "2. Calculate the distance between each pair of coordinates \n",
    "3. Group the coordinates by drop-off point and calculate the mean distance between that drop-off point and all other points it was paired with\n",
    "4. Plot the mean distance for each unique drop-off point"
   ]
  },
  {
   "cell_type": "code",
   "execution_count": 55,
   "id": "d97bf13e-882c-484c-ae3c-12110c0356dd",
   "metadata": {},
   "outputs": [],
   "source": [
    "np.random.seed(0)\n",
    "test_locations = np.round(np.random.normal(10, 5, (3000, 2)), 1)\n",
    "mid = int(len(test_locations)/2)  \n",
    "pickup = test_locations[:mid]      \n",
    "dropoff = test_locations[mid:]        \n",
    "\n",
    "distances = (dropoff - pickup)**2           \n",
    "distances = distances.sum(axis=-1)\n",
    "distances = np.sqrt(distances)\n",
    "\n",
    "test_df = pd.DataFrame({'pickup': [tuple(x) for x in pickup.tolist()],\n",
    "                   'dropoff': [tuple(x) for x in dropoff.tolist()],\n",
    "                   'distance': distances})\n",
    "distance_by_test_dropoffs = test_df.groupby('dropoff')['distance'].mean().reset_index(name='mean_distance')\n",
    "distance_by_test_dropoffs = distance_by_test_dropoffs.sort_values(by='mean_distance')"
   ]
  },
  {
   "cell_type": "code",
   "execution_count": 56,
   "id": "826e1ee1-0bf7-4e2c-9f4f-2cf912267c29",
   "metadata": {},
   "outputs": [
    {
     "data": {
      "text/html": [
       "<div>\n",
       "<style scoped>\n",
       "    .dataframe tbody tr th:only-of-type {\n",
       "        vertical-align: middle;\n",
       "    }\n",
       "\n",
       "    .dataframe tbody tr th {\n",
       "        vertical-align: top;\n",
       "    }\n",
       "\n",
       "    .dataframe thead th {\n",
       "        text-align: right;\n",
       "    }\n",
       "</style>\n",
       "<table border=\"1\" class=\"dataframe\">\n",
       "  <thead>\n",
       "    <tr style=\"text-align: right;\">\n",
       "      <th></th>\n",
       "      <th>dropoff</th>\n",
       "      <th>mean_distance</th>\n",
       "    </tr>\n",
       "  </thead>\n",
       "  <tbody>\n",
       "    <tr>\n",
       "      <th>1022</th>\n",
       "      <td>(12.4, 12.0)</td>\n",
       "      <td>0.300000</td>\n",
       "    </tr>\n",
       "    <tr>\n",
       "      <th>1236</th>\n",
       "      <td>(15.0, 7.1)</td>\n",
       "      <td>0.316228</td>\n",
       "    </tr>\n",
       "    <tr>\n",
       "      <th>1039</th>\n",
       "      <td>(12.7, 6.0)</td>\n",
       "      <td>0.538516</td>\n",
       "    </tr>\n",
       "    <tr>\n",
       "      <th>1160</th>\n",
       "      <td>(14.1, 9.1)</td>\n",
       "      <td>0.583095</td>\n",
       "    </tr>\n",
       "    <tr>\n",
       "      <th>903</th>\n",
       "      <td>(11.3, 5.5)</td>\n",
       "      <td>0.640312</td>\n",
       "    </tr>\n",
       "    <tr>\n",
       "      <th>...</th>\n",
       "      <td>...</td>\n",
       "      <td>...</td>\n",
       "    </tr>\n",
       "    <tr>\n",
       "      <th>139</th>\n",
       "      <td>(3.3, -7.0)</td>\n",
       "      <td>23.482760</td>\n",
       "    </tr>\n",
       "    <tr>\n",
       "      <th>874</th>\n",
       "      <td>(11.1, -4.5)</td>\n",
       "      <td>23.621177</td>\n",
       "    </tr>\n",
       "    <tr>\n",
       "      <th>1443</th>\n",
       "      <td>(20.6, 17.0)</td>\n",
       "      <td>24.232416</td>\n",
       "    </tr>\n",
       "    <tr>\n",
       "      <th>1275</th>\n",
       "      <td>(15.4, 18.7)</td>\n",
       "      <td>24.280033</td>\n",
       "    </tr>\n",
       "    <tr>\n",
       "      <th>5</th>\n",
       "      <td>(-1.8, 16.6)</td>\n",
       "      <td>24.831633</td>\n",
       "    </tr>\n",
       "  </tbody>\n",
       "</table>\n",
       "<p>1467 rows × 2 columns</p>\n",
       "</div>"
      ],
      "text/plain": [
       "           dropoff  mean_distance\n",
       "1022  (12.4, 12.0)       0.300000\n",
       "1236   (15.0, 7.1)       0.316228\n",
       "1039   (12.7, 6.0)       0.538516\n",
       "1160   (14.1, 9.1)       0.583095\n",
       "903    (11.3, 5.5)       0.640312\n",
       "...            ...            ...\n",
       "139    (3.3, -7.0)      23.482760\n",
       "874   (11.1, -4.5)      23.621177\n",
       "1443  (20.6, 17.0)      24.232416\n",
       "1275  (15.4, 18.7)      24.280033\n",
       "5     (-1.8, 16.6)      24.831633\n",
       "\n",
       "[1467 rows x 2 columns]"
      ]
     },
     "execution_count": 56,
     "metadata": {},
     "output_type": "execute_result"
    }
   ],
   "source": [
    "distance_by_test_dropoffs"
   ]
  },
  {
   "cell_type": "code",
   "execution_count": 57,
   "id": "ecef99c8-ac86-4e7d-9fdf-4cd2d42924ac",
   "metadata": {},
   "outputs": [
    {
     "data": {
      "image/png": "[encoded data removed]",
      "text/plain": [
       "<Figure size 1400x600 with 1 Axes>"
      ]
     },
     "metadata": {},
     "output_type": "display_data"
    }
   ],
   "source": [
    "distance_by_test_dropoffs['dropoff_str'] = distance_by_test_dropoffs['dropoff'].map(str)\n",
    "\n",
    "plt.figure(figsize=(14,6))\n",
    "pal = sns.color_palette(\"husl\", distance_by_test_dropoffs['dropoff_str'].count())\n",
    "\n",
    "ax = sns.barplot(x='dropoff_str', y='mean_distance', data=distance_by_test_dropoffs,\n",
    "                 order=distance_by_test_dropoffs['dropoff_str'], hue=distance_by_test_dropoffs['dropoff_str'],\n",
    "                palette=pal, legend=False)\n",
    "ax.set_xticklabels([])\n",
    "ax.set_xticks([])\n",
    "\n",
    "ax.set_title('Mean Distance to Dropoff Points taken Randomly from Normal Distribution', pad=10)\n",
    "ax.set_xlabel('Dropoff Point', labelpad=8)\n",
    "ax.set_ylabel('Mean Distance', labelpad=8)\n",
    "plt.show()"
   ]
  },
  {
   "cell_type": "markdown",
   "id": "e3a9b88e-d18a-4168-adb5-bf584c66f6f9",
   "metadata": {},
   "source": [
    "The shape of this plot is very similar to that of the average trip distance to each drop-off location. This reveals that the drop-off locations in the nyc_trips dataset are evenly distributed geographically. \n",
    "\n",
    "It is important to note that this plot shows the trip distribution geographically and *not* the number of trips at these locations.\n",
    "Let's examine if there was an even distribution of *rides* to each drop-off point. "
   ]
  },
  {
   "cell_type": "markdown",
   "id": "6511b372-e471-4108-a20f-8ee2c6599bc9",
   "metadata": {},
   "source": [
    "**Rides by Dropoff Location**"
   ]
  },
  {
   "cell_type": "code",
   "execution_count": 58,
   "id": "2238b831-dfdf-42b5-b3ff-9dfc60fa9ed2",
   "metadata": {},
   "outputs": [
    {
     "data": {
      "text/plain": [
       "49"
      ]
     },
     "execution_count": 58,
     "metadata": {},
     "output_type": "execute_result"
    }
   ],
   "source": [
    "nyc_taxi['DOLocationID'].max() - len(set(nyc_taxi['DOLocationID']))"
   ]
  },
  {
   "cell_type": "markdown",
   "id": "da7b2763-b115-4009-afd4-e540c393f955",
   "metadata": {},
   "source": [
    "There are 49 numbers that do not represent a drop-off location. "
   ]
  },
  {
   "cell_type": "code",
   "execution_count": 59,
   "id": "2ca75f4c-ab82-4a06-b894-a006b3103676",
   "metadata": {},
   "outputs": [
    {
     "data": {
      "image/png": "[encoded data removed]",
      "text/plain": [
       "<Figure size 1600x400 with 1 Axes>"
      ]
     },
     "metadata": {},
     "output_type": "display_data"
    }
   ],
   "source": [
    "sorted_dropoff_IDs = nyc_taxi['DOLocationID'].sort_values()\n",
    "sorted_dropoff_IDs = sorted_dropoff_IDs.astype('str')\n",
    "\n",
    "plt.figure(figsize=(16,4))\n",
    "\n",
    "sns.histplot(sorted_dropoff_IDs, bins=range(0, nyc_taxi['DOLocationID'].max()+1, 1))\n",
    "plt.xticks([])\n",
    "\n",
    "plt.title('Number of Rides to each Dropoff Location', fontsize=14, pad=10)\n",
    "plt.xlabel('Dropoff Locations', labelpad=8)\n",
    "plt.ylabel('# Rides', labelpad=8)\n",
    "plt.show()"
   ]
  },
  {
   "cell_type": "markdown",
   "id": "3d7da018-cada-491a-b052-202e26275ef2",
   "metadata": {},
   "source": [
    "The number of rides is very disproportionate across different drop-off locations. Some areas receive very high traffic, while all other sites see relatively few trips. <br>\n",
    "These high-traffic locations are likely to be near popular tourist attractions. \n",
    "\n",
    "It would be helpful to know the location each ID corresponds with, which is unfortunately not present in the data."
   ]
  },
  {
   "cell_type": "markdown",
   "id": "41e876ae-0f81-4121-8907-6c3dfe53d1a8",
   "metadata": {},
   "source": [
    "**Trip Duration**"
   ]
  },
  {
   "cell_type": "code",
   "execution_count": 60,
   "id": "6992b43c-afdd-4b14-b087-184ede5b0aed",
   "metadata": {},
   "outputs": [],
   "source": [
    "nyc_taxi['duration'] = (nyc_taxi['tpep_dropoff_datetime'] - nyc_taxi['tpep_pickup_datetime'])/np.timedelta64(1, 'm')"
   ]
  },
  {
   "cell_type": "code",
   "execution_count": 61,
   "id": "3cb87080-cc53-4879-ae5e-d0c4a63e1732",
   "metadata": {},
   "outputs": [
    {
     "data": {
      "text/html": [
       "<div>\n",
       "<style scoped>\n",
       "    .dataframe tbody tr th:only-of-type {\n",
       "        vertical-align: middle;\n",
       "    }\n",
       "\n",
       "    .dataframe tbody tr th {\n",
       "        vertical-align: top;\n",
       "    }\n",
       "\n",
       "    .dataframe thead th {\n",
       "        text-align: right;\n",
       "    }\n",
       "</style>\n",
       "<table border=\"1\" class=\"dataframe\">\n",
       "  <thead>\n",
       "    <tr style=\"text-align: right;\">\n",
       "      <th></th>\n",
       "      <th>Unnamed: 0</th>\n",
       "      <th>VendorID</th>\n",
       "      <th>tpep_pickup_datetime</th>\n",
       "      <th>tpep_dropoff_datetime</th>\n",
       "      <th>passenger_count</th>\n",
       "      <th>trip_distance</th>\n",
       "      <th>RatecodeID</th>\n",
       "      <th>store_and_fwd_flag</th>\n",
       "      <th>PULocationID</th>\n",
       "      <th>DOLocationID</th>\n",
       "      <th>...</th>\n",
       "      <th>fare_amount</th>\n",
       "      <th>extra</th>\n",
       "      <th>mta_tax</th>\n",
       "      <th>tip_amount</th>\n",
       "      <th>tolls_amount</th>\n",
       "      <th>improvement_surcharge</th>\n",
       "      <th>total_amount</th>\n",
       "      <th>month</th>\n",
       "      <th>day</th>\n",
       "      <th>duration</th>\n",
       "    </tr>\n",
       "  </thead>\n",
       "  <tbody>\n",
       "    <tr>\n",
       "      <th>0</th>\n",
       "      <td>24870114</td>\n",
       "      <td>2</td>\n",
       "      <td>2017-03-25 08:55:43</td>\n",
       "      <td>2017-03-25 09:09:47</td>\n",
       "      <td>6</td>\n",
       "      <td>3.34</td>\n",
       "      <td>1</td>\n",
       "      <td>N</td>\n",
       "      <td>100</td>\n",
       "      <td>231</td>\n",
       "      <td>...</td>\n",
       "      <td>13.0</td>\n",
       "      <td>0.0</td>\n",
       "      <td>0.5</td>\n",
       "      <td>2.76</td>\n",
       "      <td>0.0</td>\n",
       "      <td>0.3</td>\n",
       "      <td>16.56</td>\n",
       "      <td>March</td>\n",
       "      <td>Saturday</td>\n",
       "      <td>14.066667</td>\n",
       "    </tr>\n",
       "    <tr>\n",
       "      <th>1</th>\n",
       "      <td>35634249</td>\n",
       "      <td>1</td>\n",
       "      <td>2017-04-11 14:53:28</td>\n",
       "      <td>2017-04-11 15:19:58</td>\n",
       "      <td>1</td>\n",
       "      <td>1.80</td>\n",
       "      <td>1</td>\n",
       "      <td>N</td>\n",
       "      <td>186</td>\n",
       "      <td>43</td>\n",
       "      <td>...</td>\n",
       "      <td>16.0</td>\n",
       "      <td>0.0</td>\n",
       "      <td>0.5</td>\n",
       "      <td>4.00</td>\n",
       "      <td>0.0</td>\n",
       "      <td>0.3</td>\n",
       "      <td>20.80</td>\n",
       "      <td>April</td>\n",
       "      <td>Tuesday</td>\n",
       "      <td>26.500000</td>\n",
       "    </tr>\n",
       "    <tr>\n",
       "      <th>2</th>\n",
       "      <td>106203690</td>\n",
       "      <td>1</td>\n",
       "      <td>2017-12-15 07:26:56</td>\n",
       "      <td>2017-12-15 07:34:08</td>\n",
       "      <td>1</td>\n",
       "      <td>1.00</td>\n",
       "      <td>1</td>\n",
       "      <td>N</td>\n",
       "      <td>262</td>\n",
       "      <td>236</td>\n",
       "      <td>...</td>\n",
       "      <td>6.5</td>\n",
       "      <td>0.0</td>\n",
       "      <td>0.5</td>\n",
       "      <td>1.45</td>\n",
       "      <td>0.0</td>\n",
       "      <td>0.3</td>\n",
       "      <td>8.75</td>\n",
       "      <td>December</td>\n",
       "      <td>Friday</td>\n",
       "      <td>7.200000</td>\n",
       "    </tr>\n",
       "  </tbody>\n",
       "</table>\n",
       "<p>3 rows × 21 columns</p>\n",
       "</div>"
      ],
      "text/plain": [
       "   Unnamed: 0 VendorID tpep_pickup_datetime tpep_dropoff_datetime  \\\n",
       "0    24870114        2  2017-03-25 08:55:43   2017-03-25 09:09:47   \n",
       "1    35634249        1  2017-04-11 14:53:28   2017-04-11 15:19:58   \n",
       "2   106203690        1  2017-12-15 07:26:56   2017-12-15 07:34:08   \n",
       "\n",
       "   passenger_count  trip_distance RatecodeID store_and_fwd_flag  PULocationID  \\\n",
       "0                6           3.34          1                  N           100   \n",
       "1                1           1.80          1                  N           186   \n",
       "2                1           1.00          1                  N           262   \n",
       "\n",
       "   DOLocationID  ... fare_amount  extra  mta_tax  tip_amount  tolls_amount  \\\n",
       "0           231  ...        13.0    0.0      0.5        2.76           0.0   \n",
       "1            43  ...        16.0    0.0      0.5        4.00           0.0   \n",
       "2           236  ...         6.5    0.0      0.5        1.45           0.0   \n",
       "\n",
       "   improvement_surcharge  total_amount     month       day   duration  \n",
       "0                    0.3         16.56     March  Saturday  14.066667  \n",
       "1                    0.3         20.80     April   Tuesday  26.500000  \n",
       "2                    0.3          8.75  December    Friday   7.200000  \n",
       "\n",
       "[3 rows x 21 columns]"
      ]
     },
     "execution_count": 61,
     "metadata": {},
     "output_type": "execute_result"
    }
   ],
   "source": [
    "nyc_taxi.head(3)"
   ]
  },
  {
   "cell_type": "code",
   "execution_count": 62,
   "id": "106fedf3-b729-4274-b97c-1d8a1de0f073",
   "metadata": {},
   "outputs": [
    {
     "data": {
      "image/png": "[encoded data removed]",
      "text/plain": [
       "<Figure size 600x300 with 1 Axes>"
      ]
     },
     "metadata": {},
     "output_type": "display_data"
    }
   ],
   "source": [
    "plt.figure(figsize=(6, 3))\n",
    "sns.boxplot(x=nyc_taxi['duration'], fliersize=1)\n",
    "plt.xlabel('Trip Duration (minutes)')\n",
    "plt.show()"
   ]
  },
  {
   "cell_type": "code",
   "execution_count": 63,
   "id": "90acd623-b27a-4923-a711-714ceedab531",
   "metadata": {},
   "outputs": [
    {
     "data": {
      "text/html": [
       "<div>\n",
       "<style scoped>\n",
       "    .dataframe tbody tr th:only-of-type {\n",
       "        vertical-align: middle;\n",
       "    }\n",
       "\n",
       "    .dataframe tbody tr th {\n",
       "        vertical-align: top;\n",
       "    }\n",
       "\n",
       "    .dataframe thead th {\n",
       "        text-align: right;\n",
       "    }\n",
       "</style>\n",
       "<table border=\"1\" class=\"dataframe\">\n",
       "  <thead>\n",
       "    <tr style=\"text-align: right;\">\n",
       "      <th></th>\n",
       "      <th>Unnamed: 0</th>\n",
       "      <th>VendorID</th>\n",
       "      <th>tpep_pickup_datetime</th>\n",
       "      <th>tpep_dropoff_datetime</th>\n",
       "      <th>passenger_count</th>\n",
       "      <th>trip_distance</th>\n",
       "      <th>RatecodeID</th>\n",
       "      <th>store_and_fwd_flag</th>\n",
       "      <th>PULocationID</th>\n",
       "      <th>DOLocationID</th>\n",
       "      <th>...</th>\n",
       "      <th>fare_amount</th>\n",
       "      <th>extra</th>\n",
       "      <th>mta_tax</th>\n",
       "      <th>tip_amount</th>\n",
       "      <th>tolls_amount</th>\n",
       "      <th>improvement_surcharge</th>\n",
       "      <th>total_amount</th>\n",
       "      <th>month</th>\n",
       "      <th>day</th>\n",
       "      <th>duration</th>\n",
       "    </tr>\n",
       "  </thead>\n",
       "  <tbody>\n",
       "    <tr>\n",
       "      <th>9356</th>\n",
       "      <td>93542707</td>\n",
       "      <td>1</td>\n",
       "      <td>2017-11-05 01:23:08</td>\n",
       "      <td>2017-11-05 01:06:09</td>\n",
       "      <td>1</td>\n",
       "      <td>5.7</td>\n",
       "      <td>1</td>\n",
       "      <td>N</td>\n",
       "      <td>161</td>\n",
       "      <td>157</td>\n",
       "      <td>...</td>\n",
       "      <td>28.0</td>\n",
       "      <td>0.5</td>\n",
       "      <td>0.5</td>\n",
       "      <td>0.0</td>\n",
       "      <td>0.0</td>\n",
       "      <td>0.3</td>\n",
       "      <td>29.3</td>\n",
       "      <td>November</td>\n",
       "      <td>Sunday</td>\n",
       "      <td>-16.983333</td>\n",
       "    </tr>\n",
       "  </tbody>\n",
       "</table>\n",
       "<p>1 rows × 21 columns</p>\n",
       "</div>"
      ],
      "text/plain": [
       "      Unnamed: 0 VendorID tpep_pickup_datetime tpep_dropoff_datetime  \\\n",
       "9356    93542707        1  2017-11-05 01:23:08   2017-11-05 01:06:09   \n",
       "\n",
       "      passenger_count  trip_distance RatecodeID store_and_fwd_flag  \\\n",
       "9356                1            5.7          1                  N   \n",
       "\n",
       "      PULocationID  DOLocationID  ... fare_amount  extra  mta_tax  tip_amount  \\\n",
       "9356           161           157  ...        28.0    0.5      0.5         0.0   \n",
       "\n",
       "      tolls_amount  improvement_surcharge  total_amount     month     day  \\\n",
       "9356           0.0                    0.3          29.3  November  Sunday   \n",
       "\n",
       "       duration  \n",
       "9356 -16.983333  \n",
       "\n",
       "[1 rows x 21 columns]"
      ]
     },
     "execution_count": 63,
     "metadata": {},
     "output_type": "execute_result"
    }
   ],
   "source": [
    "nyc_taxi[nyc_taxi['tpep_pickup_datetime'] > nyc_taxi['tpep_dropoff_datetime']]"
   ]
  },
  {
   "cell_type": "markdown",
   "id": "2fb9922e-6aeb-43e6-878b-f13b7f135ace",
   "metadata": {},
   "source": [
    "There is a trip with `tpep_pickup_datetime` value greater than `tpep_dropoff_datetime`. This isn't possible."
   ]
  },
  {
   "cell_type": "code",
   "execution_count": 64,
   "id": "ad8754f3-5b48-47a4-8270-eaeb4fb4dd04",
   "metadata": {},
   "outputs": [
    {
     "data": {
      "image/png": "[encoded data removed]",
      "text/plain": [
       "<Figure size 1000x400 with 1 Axes>"
      ]
     },
     "metadata": {},
     "output_type": "display_data"
    }
   ],
   "source": [
    "plt.figure(figsize=(10, 4))\n",
    "ax = sns.histplot(x=nyc_taxi['duration'], bins=range(0, 31, 1))\n",
    "ax.set_xticks(range(0, 31, 1))\n",
    "ax.set_xticklabels(range(0, 31, 1))\n",
    "plt.xlabel('Trip Duration (minutes)', labelpad=8)\n",
    "plt.ylabel('# Trips', labelpad=8)\n",
    "plt.title('Number of trips by Trip Duration', fontsize=14, pad=10)\n",
    "plt.show()"
   ]
  },
  {
   "cell_type": "markdown",
   "id": "f1cac96d-43c5-45b5-a0c1-61b330f255e5",
   "metadata": {},
   "source": [
    "Most of the trips are between 3 to 12 minutes."
   ]
  },
  {
   "cell_type": "markdown",
   "id": "f5b9c6b6-69d1-454a-92ef-f4e7a9db8ef9",
   "metadata": {},
   "source": [
    "**Trip Distance and Total Amount**"
   ]
  },
  {
   "cell_type": "code",
   "execution_count": 65,
   "id": "ba35da52-b0ba-4bd3-8fc9-95864bf61a14",
   "metadata": {},
   "outputs": [
    {
     "data": {
      "text/html": [
       "<div>\n",
       "<style scoped>\n",
       "    .dataframe tbody tr th:only-of-type {\n",
       "        vertical-align: middle;\n",
       "    }\n",
       "\n",
       "    .dataframe tbody tr th {\n",
       "        vertical-align: top;\n",
       "    }\n",
       "\n",
       "    .dataframe thead th {\n",
       "        text-align: right;\n",
       "    }\n",
       "</style>\n",
       "<table border=\"1\" class=\"dataframe\">\n",
       "  <thead>\n",
       "    <tr style=\"text-align: right;\">\n",
       "      <th></th>\n",
       "      <th>trip_distance</th>\n",
       "      <th>total_amount</th>\n",
       "    </tr>\n",
       "  </thead>\n",
       "  <tbody>\n",
       "    <tr>\n",
       "      <th>trip_distance</th>\n",
       "      <td>1.00000</td>\n",
       "      <td>0.76808</td>\n",
       "    </tr>\n",
       "    <tr>\n",
       "      <th>total_amount</th>\n",
       "      <td>0.76808</td>\n",
       "      <td>1.00000</td>\n",
       "    </tr>\n",
       "  </tbody>\n",
       "</table>\n",
       "</div>"
      ],
      "text/plain": [
       "               trip_distance  total_amount\n",
       "trip_distance        1.00000       0.76808\n",
       "total_amount         0.76808       1.00000"
      ]
     },
     "execution_count": 65,
     "metadata": {},
     "output_type": "execute_result"
    }
   ],
   "source": [
    "non_negative_total_fare = nyc_taxi[nyc_taxi['total_amount']>=0]\n",
    "non_negative_total_fare[['trip_distance', 'total_amount']].corr()"
   ]
  },
  {
   "cell_type": "code",
   "execution_count": 66,
   "id": "739f4f24-5411-4278-a5a4-cc1792297c70",
   "metadata": {},
   "outputs": [
    {
     "data": {
      "image/png": "[encoded data removed]",
      "text/plain": [
       "<Figure size 600x300 with 1 Axes>"
      ]
     },
     "metadata": {},
     "output_type": "display_data"
    }
   ],
   "source": [
    "plt.figure(figsize=(6, 3))\n",
    "sns.scatterplot(x='trip_distance', y='total_amount', data=nyc_taxi)\n",
    "plt.xlabel('Trip Distance (miles)')\n",
    "plt.ylabel('Total Amount (USD)')\n",
    "plt.show()"
   ]
  },
  {
   "cell_type": "markdown",
   "id": "2ea01502-5e8e-463c-9a32-998c9a05ca42",
   "metadata": {},
   "source": [
    "There is a strong correlation between trip distance and total amount. However, certain trips with `trip_distance` of 0 miles have non-zero values for `total_amount` and there are certain negative values for `total_amount`. "
   ]
  },
  {
   "cell_type": "code",
   "execution_count": 67,
   "id": "23634476-15b0-4340-b998-68e6be6cf480",
   "metadata": {},
   "outputs": [
    {
     "data": {
      "text/html": [
       "<div>\n",
       "<style scoped>\n",
       "    .dataframe tbody tr th:only-of-type {\n",
       "        vertical-align: middle;\n",
       "    }\n",
       "\n",
       "    .dataframe tbody tr th {\n",
       "        vertical-align: top;\n",
       "    }\n",
       "\n",
       "    .dataframe thead th {\n",
       "        text-align: right;\n",
       "    }\n",
       "</style>\n",
       "<table border=\"1\" class=\"dataframe\">\n",
       "  <thead>\n",
       "    <tr style=\"text-align: right;\">\n",
       "      <th></th>\n",
       "      <th>Unnamed: 0</th>\n",
       "      <th>VendorID</th>\n",
       "      <th>tpep_pickup_datetime</th>\n",
       "      <th>tpep_dropoff_datetime</th>\n",
       "      <th>passenger_count</th>\n",
       "      <th>trip_distance</th>\n",
       "      <th>RatecodeID</th>\n",
       "      <th>store_and_fwd_flag</th>\n",
       "      <th>PULocationID</th>\n",
       "      <th>DOLocationID</th>\n",
       "      <th>payment_type</th>\n",
       "      <th>fare_amount</th>\n",
       "      <th>extra</th>\n",
       "      <th>mta_tax</th>\n",
       "      <th>tip_amount</th>\n",
       "      <th>tolls_amount</th>\n",
       "      <th>improvement_surcharge</th>\n",
       "      <th>total_amount</th>\n",
       "      <th>month</th>\n",
       "      <th>day</th>\n",
       "      <th>duration</th>\n",
       "    </tr>\n",
       "  </thead>\n",
       "  <tbody>\n",
       "    <tr>\n",
       "      <th>0</th>\n",
       "      <td>24870114</td>\n",
       "      <td>2</td>\n",
       "      <td>2017-03-25 08:55:43</td>\n",
       "      <td>2017-03-25 09:09:47</td>\n",
       "      <td>6</td>\n",
       "      <td>3.34</td>\n",
       "      <td>1</td>\n",
       "      <td>N</td>\n",
       "      <td>100</td>\n",
       "      <td>231</td>\n",
       "      <td>1</td>\n",
       "      <td>13.0</td>\n",
       "      <td>0.0</td>\n",
       "      <td>0.5</td>\n",
       "      <td>2.76</td>\n",
       "      <td>0.0</td>\n",
       "      <td>0.3</td>\n",
       "      <td>16.56</td>\n",
       "      <td>March</td>\n",
       "      <td>Saturday</td>\n",
       "      <td>14.066667</td>\n",
       "    </tr>\n",
       "    <tr>\n",
       "      <th>1</th>\n",
       "      <td>35634249</td>\n",
       "      <td>1</td>\n",
       "      <td>2017-04-11 14:53:28</td>\n",
       "      <td>2017-04-11 15:19:58</td>\n",
       "      <td>1</td>\n",
       "      <td>1.80</td>\n",
       "      <td>1</td>\n",
       "      <td>N</td>\n",
       "      <td>186</td>\n",
       "      <td>43</td>\n",
       "      <td>1</td>\n",
       "      <td>16.0</td>\n",
       "      <td>0.0</td>\n",
       "      <td>0.5</td>\n",
       "      <td>4.00</td>\n",
       "      <td>0.0</td>\n",
       "      <td>0.3</td>\n",
       "      <td>20.80</td>\n",
       "      <td>April</td>\n",
       "      <td>Tuesday</td>\n",
       "      <td>26.500000</td>\n",
       "    </tr>\n",
       "    <tr>\n",
       "      <th>2</th>\n",
       "      <td>106203690</td>\n",
       "      <td>1</td>\n",
       "      <td>2017-12-15 07:26:56</td>\n",
       "      <td>2017-12-15 07:34:08</td>\n",
       "      <td>1</td>\n",
       "      <td>1.00</td>\n",
       "      <td>1</td>\n",
       "      <td>N</td>\n",
       "      <td>262</td>\n",
       "      <td>236</td>\n",
       "      <td>1</td>\n",
       "      <td>6.5</td>\n",
       "      <td>0.0</td>\n",
       "      <td>0.5</td>\n",
       "      <td>1.45</td>\n",
       "      <td>0.0</td>\n",
       "      <td>0.3</td>\n",
       "      <td>8.75</td>\n",
       "      <td>December</td>\n",
       "      <td>Friday</td>\n",
       "      <td>7.200000</td>\n",
       "    </tr>\n",
       "    <tr>\n",
       "      <th>3</th>\n",
       "      <td>38942136</td>\n",
       "      <td>2</td>\n",
       "      <td>2017-05-07 13:17:59</td>\n",
       "      <td>2017-05-07 13:48:14</td>\n",
       "      <td>1</td>\n",
       "      <td>3.70</td>\n",
       "      <td>1</td>\n",
       "      <td>N</td>\n",
       "      <td>188</td>\n",
       "      <td>97</td>\n",
       "      <td>1</td>\n",
       "      <td>20.5</td>\n",
       "      <td>0.0</td>\n",
       "      <td>0.5</td>\n",
       "      <td>6.39</td>\n",
       "      <td>0.0</td>\n",
       "      <td>0.3</td>\n",
       "      <td>27.69</td>\n",
       "      <td>May</td>\n",
       "      <td>Sunday</td>\n",
       "      <td>30.250000</td>\n",
       "    </tr>\n",
       "    <tr>\n",
       "      <th>4</th>\n",
       "      <td>30841670</td>\n",
       "      <td>2</td>\n",
       "      <td>2017-04-15 23:32:20</td>\n",
       "      <td>2017-04-15 23:49:03</td>\n",
       "      <td>1</td>\n",
       "      <td>4.37</td>\n",
       "      <td>1</td>\n",
       "      <td>N</td>\n",
       "      <td>4</td>\n",
       "      <td>112</td>\n",
       "      <td>2</td>\n",
       "      <td>16.5</td>\n",
       "      <td>0.5</td>\n",
       "      <td>0.5</td>\n",
       "      <td>0.00</td>\n",
       "      <td>0.0</td>\n",
       "      <td>0.3</td>\n",
       "      <td>17.80</td>\n",
       "      <td>April</td>\n",
       "      <td>Saturday</td>\n",
       "      <td>16.716667</td>\n",
       "    </tr>\n",
       "  </tbody>\n",
       "</table>\n",
       "</div>"
      ],
      "text/plain": [
       "   Unnamed: 0 VendorID tpep_pickup_datetime tpep_dropoff_datetime  \\\n",
       "0    24870114        2  2017-03-25 08:55:43   2017-03-25 09:09:47   \n",
       "1    35634249        1  2017-04-11 14:53:28   2017-04-11 15:19:58   \n",
       "2   106203690        1  2017-12-15 07:26:56   2017-12-15 07:34:08   \n",
       "3    38942136        2  2017-05-07 13:17:59   2017-05-07 13:48:14   \n",
       "4    30841670        2  2017-04-15 23:32:20   2017-04-15 23:49:03   \n",
       "\n",
       "   passenger_count  trip_distance RatecodeID store_and_fwd_flag  PULocationID  \\\n",
       "0                6           3.34          1                  N           100   \n",
       "1                1           1.80          1                  N           186   \n",
       "2                1           1.00          1                  N           262   \n",
       "3                1           3.70          1                  N           188   \n",
       "4                1           4.37          1                  N             4   \n",
       "\n",
       "   DOLocationID payment_type  fare_amount  extra  mta_tax  tip_amount  \\\n",
       "0           231            1         13.0    0.0      0.5        2.76   \n",
       "1            43            1         16.0    0.0      0.5        4.00   \n",
       "2           236            1          6.5    0.0      0.5        1.45   \n",
       "3            97            1         20.5    0.0      0.5        6.39   \n",
       "4           112            2         16.5    0.5      0.5        0.00   \n",
       "\n",
       "   tolls_amount  improvement_surcharge  total_amount     month       day  \\\n",
       "0           0.0                    0.3         16.56     March  Saturday   \n",
       "1           0.0                    0.3         20.80     April   Tuesday   \n",
       "2           0.0                    0.3          8.75  December    Friday   \n",
       "3           0.0                    0.3         27.69       May    Sunday   \n",
       "4           0.0                    0.3         17.80     April  Saturday   \n",
       "\n",
       "    duration  \n",
       "0  14.066667  \n",
       "1  26.500000  \n",
       "2   7.200000  \n",
       "3  30.250000  \n",
       "4  16.716667  "
      ]
     },
     "execution_count": 67,
     "metadata": {},
     "output_type": "execute_result"
    }
   ],
   "source": [
    "pd.set_option('display.max_columns', None)\n",
    "nyc_taxi.head()"
   ]
  },
  {
   "cell_type": "code",
   "execution_count": 68,
   "id": "88ce1a2f-7322-41b5-8a74-23e0c1e7c74b",
   "metadata": {},
   "outputs": [],
   "source": [
    "df = nyc_taxi[(nyc_taxi['total_amount']>=0) & (nyc_taxi['duration'] >= 0)]"
   ]
  },
  {
   "cell_type": "code",
   "execution_count": 69,
   "id": "104197a1-7c9b-43d9-92dd-bdff351cc998",
   "metadata": {},
   "outputs": [
    {
     "data": {
      "text/html": [
       "<div>\n",
       "<style scoped>\n",
       "    .dataframe tbody tr th:only-of-type {\n",
       "        vertical-align: middle;\n",
       "    }\n",
       "\n",
       "    .dataframe tbody tr th {\n",
       "        vertical-align: top;\n",
       "    }\n",
       "\n",
       "    .dataframe thead th {\n",
       "        text-align: right;\n",
       "    }\n",
       "</style>\n",
       "<table border=\"1\" class=\"dataframe\">\n",
       "  <thead>\n",
       "    <tr style=\"text-align: right;\">\n",
       "      <th></th>\n",
       "      <th>trip_distance</th>\n",
       "      <th>total_amount</th>\n",
       "      <th>duration</th>\n",
       "    </tr>\n",
       "  </thead>\n",
       "  <tbody>\n",
       "    <tr>\n",
       "      <th>trip_distance</th>\n",
       "      <td>1.000000</td>\n",
       "      <td>0.768074</td>\n",
       "      <td>0.156002</td>\n",
       "    </tr>\n",
       "    <tr>\n",
       "      <th>total_amount</th>\n",
       "      <td>0.768074</td>\n",
       "      <td>1.000000</td>\n",
       "      <td>0.136290</td>\n",
       "    </tr>\n",
       "    <tr>\n",
       "      <th>duration</th>\n",
       "      <td>0.156002</td>\n",
       "      <td>0.136290</td>\n",
       "      <td>1.000000</td>\n",
       "    </tr>\n",
       "  </tbody>\n",
       "</table>\n",
       "</div>"
      ],
      "text/plain": [
       "               trip_distance  total_amount  duration\n",
       "trip_distance       1.000000      0.768074  0.156002\n",
       "total_amount        0.768074      1.000000  0.136290\n",
       "duration            0.156002      0.136290  1.000000"
      ]
     },
     "execution_count": 69,
     "metadata": {},
     "output_type": "execute_result"
    }
   ],
   "source": [
    "df[['trip_distance', 'total_amount', 'duration']].corr()"
   ]
  },
  {
   "cell_type": "markdown",
   "id": "5abe9d0f-641f-4af0-88ed-ec13bfd91717",
   "metadata": {},
   "source": [
    "Surprisingly, there is very weak correlation between `total_amount` and trip `duration` and between `trip_distance` and `duration`."
   ]
  }
 ],
 "metadata": {
  "kernelspec": {
   "display_name": "Python 3 (ipykernel)",
   "language": "python",
   "name": "python3"
  },
  "language_info": {
   "codemirror_mode": {
    "name": "ipython",
    "version": 3
   },
   "file_extension": ".py",
   "mimetype": "text/x-python",
   "name": "python",
   "nbconvert_exporter": "python",
   "pygments_lexer": "ipython3",
   "version": "3.12.4"
  }
 },
 "nbformat": 4,
 "nbformat_minor": 5
}
